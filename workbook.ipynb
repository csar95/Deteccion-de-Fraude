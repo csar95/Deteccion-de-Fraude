{
 "cells": [
  {
   "cell_type": "code",
   "execution_count": 1,
   "metadata": {},
   "outputs": [],
   "source": [
    "import numpy as np\n",
    "import pandas as pd\n",
    "import seaborn as sns\n",
    "import matplotlib.pyplot as plt\n",
    "\n",
    "import warnings\n",
    "warnings.filterwarnings('ignore')"
   ]
  },
  {
   "cell_type": "markdown",
   "metadata": {},
   "source": [
    "![purple-divider](https://user-images.githubusercontent.com/7065401/52071927-c1cd7100-2562-11e9-908a-dde91ba14e59.png)\n",
    "\n",
    "# Análisis exploratorio"
   ]
  },
  {
   "cell_type": "code",
   "execution_count": 2,
   "metadata": {},
   "outputs": [
    {
     "data": {
      "text/plain": [
       "(284807, 31)"
      ]
     },
     "execution_count": 2,
     "metadata": {},
     "output_type": "execute_result"
    }
   ],
   "source": [
    "df = pd.read_csv(\"./Resources/creditcard.csv\")\n",
    "df.shape"
   ]
  },
  {
   "cell_type": "markdown",
   "metadata": {},
   "source": [
    "Nuestro dataset contiene 284807 operaciones de tarjetas de crédito (cada línea es una operación) durante dos días distintos de septiembre de 2013 y 31 columnas o features.\n",
    "\n",
    "Ahora vamos a echar un primer vistazo a los datos."
   ]
  },
  {
   "cell_type": "code",
   "execution_count": 3,
   "metadata": {},
   "outputs": [
    {
     "data": {
      "text/html": [
       "<div>\n",
       "<style scoped>\n",
       "    .dataframe tbody tr th:only-of-type {\n",
       "        vertical-align: middle;\n",
       "    }\n",
       "\n",
       "    .dataframe tbody tr th {\n",
       "        vertical-align: top;\n",
       "    }\n",
       "\n",
       "    .dataframe thead th {\n",
       "        text-align: right;\n",
       "    }\n",
       "</style>\n",
       "<table border=\"1\" class=\"dataframe\">\n",
       "  <thead>\n",
       "    <tr style=\"text-align: right;\">\n",
       "      <th></th>\n",
       "      <th>Time</th>\n",
       "      <th>V1</th>\n",
       "      <th>V2</th>\n",
       "      <th>V3</th>\n",
       "      <th>V4</th>\n",
       "      <th>V5</th>\n",
       "      <th>V6</th>\n",
       "      <th>V7</th>\n",
       "      <th>V8</th>\n",
       "      <th>V9</th>\n",
       "      <th>...</th>\n",
       "      <th>V21</th>\n",
       "      <th>V22</th>\n",
       "      <th>V23</th>\n",
       "      <th>V24</th>\n",
       "      <th>V25</th>\n",
       "      <th>V26</th>\n",
       "      <th>V27</th>\n",
       "      <th>V28</th>\n",
       "      <th>Amount</th>\n",
       "      <th>Class</th>\n",
       "    </tr>\n",
       "  </thead>\n",
       "  <tbody>\n",
       "    <tr>\n",
       "      <th>0</th>\n",
       "      <td>0.0</td>\n",
       "      <td>-1.359807</td>\n",
       "      <td>-0.072781</td>\n",
       "      <td>2.536347</td>\n",
       "      <td>1.378155</td>\n",
       "      <td>-0.338321</td>\n",
       "      <td>0.462388</td>\n",
       "      <td>0.239599</td>\n",
       "      <td>0.098698</td>\n",
       "      <td>0.363787</td>\n",
       "      <td>...</td>\n",
       "      <td>-0.018307</td>\n",
       "      <td>0.277838</td>\n",
       "      <td>-0.110474</td>\n",
       "      <td>0.066928</td>\n",
       "      <td>0.128539</td>\n",
       "      <td>-0.189115</td>\n",
       "      <td>0.133558</td>\n",
       "      <td>-0.021053</td>\n",
       "      <td>149.62</td>\n",
       "      <td>0</td>\n",
       "    </tr>\n",
       "    <tr>\n",
       "      <th>1</th>\n",
       "      <td>0.0</td>\n",
       "      <td>1.191857</td>\n",
       "      <td>0.266151</td>\n",
       "      <td>0.166480</td>\n",
       "      <td>0.448154</td>\n",
       "      <td>0.060018</td>\n",
       "      <td>-0.082361</td>\n",
       "      <td>-0.078803</td>\n",
       "      <td>0.085102</td>\n",
       "      <td>-0.255425</td>\n",
       "      <td>...</td>\n",
       "      <td>-0.225775</td>\n",
       "      <td>-0.638672</td>\n",
       "      <td>0.101288</td>\n",
       "      <td>-0.339846</td>\n",
       "      <td>0.167170</td>\n",
       "      <td>0.125895</td>\n",
       "      <td>-0.008983</td>\n",
       "      <td>0.014724</td>\n",
       "      <td>2.69</td>\n",
       "      <td>0</td>\n",
       "    </tr>\n",
       "    <tr>\n",
       "      <th>2</th>\n",
       "      <td>1.0</td>\n",
       "      <td>-1.358354</td>\n",
       "      <td>-1.340163</td>\n",
       "      <td>1.773209</td>\n",
       "      <td>0.379780</td>\n",
       "      <td>-0.503198</td>\n",
       "      <td>1.800499</td>\n",
       "      <td>0.791461</td>\n",
       "      <td>0.247676</td>\n",
       "      <td>-1.514654</td>\n",
       "      <td>...</td>\n",
       "      <td>0.247998</td>\n",
       "      <td>0.771679</td>\n",
       "      <td>0.909412</td>\n",
       "      <td>-0.689281</td>\n",
       "      <td>-0.327642</td>\n",
       "      <td>-0.139097</td>\n",
       "      <td>-0.055353</td>\n",
       "      <td>-0.059752</td>\n",
       "      <td>378.66</td>\n",
       "      <td>0</td>\n",
       "    </tr>\n",
       "    <tr>\n",
       "      <th>3</th>\n",
       "      <td>1.0</td>\n",
       "      <td>-0.966272</td>\n",
       "      <td>-0.185226</td>\n",
       "      <td>1.792993</td>\n",
       "      <td>-0.863291</td>\n",
       "      <td>-0.010309</td>\n",
       "      <td>1.247203</td>\n",
       "      <td>0.237609</td>\n",
       "      <td>0.377436</td>\n",
       "      <td>-1.387024</td>\n",
       "      <td>...</td>\n",
       "      <td>-0.108300</td>\n",
       "      <td>0.005274</td>\n",
       "      <td>-0.190321</td>\n",
       "      <td>-1.175575</td>\n",
       "      <td>0.647376</td>\n",
       "      <td>-0.221929</td>\n",
       "      <td>0.062723</td>\n",
       "      <td>0.061458</td>\n",
       "      <td>123.50</td>\n",
       "      <td>0</td>\n",
       "    </tr>\n",
       "    <tr>\n",
       "      <th>4</th>\n",
       "      <td>2.0</td>\n",
       "      <td>-1.158233</td>\n",
       "      <td>0.877737</td>\n",
       "      <td>1.548718</td>\n",
       "      <td>0.403034</td>\n",
       "      <td>-0.407193</td>\n",
       "      <td>0.095921</td>\n",
       "      <td>0.592941</td>\n",
       "      <td>-0.270533</td>\n",
       "      <td>0.817739</td>\n",
       "      <td>...</td>\n",
       "      <td>-0.009431</td>\n",
       "      <td>0.798278</td>\n",
       "      <td>-0.137458</td>\n",
       "      <td>0.141267</td>\n",
       "      <td>-0.206010</td>\n",
       "      <td>0.502292</td>\n",
       "      <td>0.219422</td>\n",
       "      <td>0.215153</td>\n",
       "      <td>69.99</td>\n",
       "      <td>0</td>\n",
       "    </tr>\n",
       "  </tbody>\n",
       "</table>\n",
       "<p>5 rows × 31 columns</p>\n",
       "</div>"
      ],
      "text/plain": [
       "   Time        V1        V2        V3        V4        V5        V6        V7  \\\n",
       "0   0.0 -1.359807 -0.072781  2.536347  1.378155 -0.338321  0.462388  0.239599   \n",
       "1   0.0  1.191857  0.266151  0.166480  0.448154  0.060018 -0.082361 -0.078803   \n",
       "2   1.0 -1.358354 -1.340163  1.773209  0.379780 -0.503198  1.800499  0.791461   \n",
       "3   1.0 -0.966272 -0.185226  1.792993 -0.863291 -0.010309  1.247203  0.237609   \n",
       "4   2.0 -1.158233  0.877737  1.548718  0.403034 -0.407193  0.095921  0.592941   \n",
       "\n",
       "         V8        V9  ...       V21       V22       V23       V24       V25  \\\n",
       "0  0.098698  0.363787  ... -0.018307  0.277838 -0.110474  0.066928  0.128539   \n",
       "1  0.085102 -0.255425  ... -0.225775 -0.638672  0.101288 -0.339846  0.167170   \n",
       "2  0.247676 -1.514654  ...  0.247998  0.771679  0.909412 -0.689281 -0.327642   \n",
       "3  0.377436 -1.387024  ... -0.108300  0.005274 -0.190321 -1.175575  0.647376   \n",
       "4 -0.270533  0.817739  ... -0.009431  0.798278 -0.137458  0.141267 -0.206010   \n",
       "\n",
       "        V26       V27       V28  Amount  Class  \n",
       "0 -0.189115  0.133558 -0.021053  149.62      0  \n",
       "1  0.125895 -0.008983  0.014724    2.69      0  \n",
       "2 -0.139097 -0.055353 -0.059752  378.66      0  \n",
       "3 -0.221929  0.062723  0.061458  123.50      0  \n",
       "4  0.502292  0.219422  0.215153   69.99      0  \n",
       "\n",
       "[5 rows x 31 columns]"
      ]
     },
     "execution_count": 3,
     "metadata": {},
     "output_type": "execute_result"
    }
   ],
   "source": [
    "df.head()"
   ]
  },
  {
   "cell_type": "code",
   "execution_count": 4,
   "metadata": {},
   "outputs": [
    {
     "data": {
      "text/html": [
       "<div>\n",
       "<style scoped>\n",
       "    .dataframe tbody tr th:only-of-type {\n",
       "        vertical-align: middle;\n",
       "    }\n",
       "\n",
       "    .dataframe tbody tr th {\n",
       "        vertical-align: top;\n",
       "    }\n",
       "\n",
       "    .dataframe thead th {\n",
       "        text-align: right;\n",
       "    }\n",
       "</style>\n",
       "<table border=\"1\" class=\"dataframe\">\n",
       "  <thead>\n",
       "    <tr style=\"text-align: right;\">\n",
       "      <th></th>\n",
       "      <th>Time</th>\n",
       "      <th>V1</th>\n",
       "      <th>V2</th>\n",
       "      <th>V3</th>\n",
       "      <th>V4</th>\n",
       "      <th>V5</th>\n",
       "      <th>V6</th>\n",
       "      <th>V7</th>\n",
       "      <th>V8</th>\n",
       "      <th>V9</th>\n",
       "      <th>...</th>\n",
       "      <th>V21</th>\n",
       "      <th>V22</th>\n",
       "      <th>V23</th>\n",
       "      <th>V24</th>\n",
       "      <th>V25</th>\n",
       "      <th>V26</th>\n",
       "      <th>V27</th>\n",
       "      <th>V28</th>\n",
       "      <th>Amount</th>\n",
       "      <th>Class</th>\n",
       "    </tr>\n",
       "  </thead>\n",
       "  <tbody>\n",
       "    <tr>\n",
       "      <th>count</th>\n",
       "      <td>284807.000000</td>\n",
       "      <td>2.848070e+05</td>\n",
       "      <td>2.848070e+05</td>\n",
       "      <td>2.848070e+05</td>\n",
       "      <td>2.848070e+05</td>\n",
       "      <td>2.848070e+05</td>\n",
       "      <td>2.848070e+05</td>\n",
       "      <td>2.848070e+05</td>\n",
       "      <td>2.848070e+05</td>\n",
       "      <td>2.848070e+05</td>\n",
       "      <td>...</td>\n",
       "      <td>2.848070e+05</td>\n",
       "      <td>2.848070e+05</td>\n",
       "      <td>2.848070e+05</td>\n",
       "      <td>2.848070e+05</td>\n",
       "      <td>2.848070e+05</td>\n",
       "      <td>2.848070e+05</td>\n",
       "      <td>2.848070e+05</td>\n",
       "      <td>2.848070e+05</td>\n",
       "      <td>284807.000000</td>\n",
       "      <td>284807.000000</td>\n",
       "    </tr>\n",
       "    <tr>\n",
       "      <th>mean</th>\n",
       "      <td>94813.859575</td>\n",
       "      <td>3.919560e-15</td>\n",
       "      <td>5.688174e-16</td>\n",
       "      <td>-8.769071e-15</td>\n",
       "      <td>2.782312e-15</td>\n",
       "      <td>-1.552563e-15</td>\n",
       "      <td>2.010663e-15</td>\n",
       "      <td>-1.694249e-15</td>\n",
       "      <td>-1.927028e-16</td>\n",
       "      <td>-3.137024e-15</td>\n",
       "      <td>...</td>\n",
       "      <td>1.537294e-16</td>\n",
       "      <td>7.959909e-16</td>\n",
       "      <td>5.367590e-16</td>\n",
       "      <td>4.458112e-15</td>\n",
       "      <td>1.453003e-15</td>\n",
       "      <td>1.699104e-15</td>\n",
       "      <td>-3.660161e-16</td>\n",
       "      <td>-1.206049e-16</td>\n",
       "      <td>88.349619</td>\n",
       "      <td>0.001727</td>\n",
       "    </tr>\n",
       "    <tr>\n",
       "      <th>std</th>\n",
       "      <td>47488.145955</td>\n",
       "      <td>1.958696e+00</td>\n",
       "      <td>1.651309e+00</td>\n",
       "      <td>1.516255e+00</td>\n",
       "      <td>1.415869e+00</td>\n",
       "      <td>1.380247e+00</td>\n",
       "      <td>1.332271e+00</td>\n",
       "      <td>1.237094e+00</td>\n",
       "      <td>1.194353e+00</td>\n",
       "      <td>1.098632e+00</td>\n",
       "      <td>...</td>\n",
       "      <td>7.345240e-01</td>\n",
       "      <td>7.257016e-01</td>\n",
       "      <td>6.244603e-01</td>\n",
       "      <td>6.056471e-01</td>\n",
       "      <td>5.212781e-01</td>\n",
       "      <td>4.822270e-01</td>\n",
       "      <td>4.036325e-01</td>\n",
       "      <td>3.300833e-01</td>\n",
       "      <td>250.120109</td>\n",
       "      <td>0.041527</td>\n",
       "    </tr>\n",
       "    <tr>\n",
       "      <th>min</th>\n",
       "      <td>0.000000</td>\n",
       "      <td>-5.640751e+01</td>\n",
       "      <td>-7.271573e+01</td>\n",
       "      <td>-4.832559e+01</td>\n",
       "      <td>-5.683171e+00</td>\n",
       "      <td>-1.137433e+02</td>\n",
       "      <td>-2.616051e+01</td>\n",
       "      <td>-4.355724e+01</td>\n",
       "      <td>-7.321672e+01</td>\n",
       "      <td>-1.343407e+01</td>\n",
       "      <td>...</td>\n",
       "      <td>-3.483038e+01</td>\n",
       "      <td>-1.093314e+01</td>\n",
       "      <td>-4.480774e+01</td>\n",
       "      <td>-2.836627e+00</td>\n",
       "      <td>-1.029540e+01</td>\n",
       "      <td>-2.604551e+00</td>\n",
       "      <td>-2.256568e+01</td>\n",
       "      <td>-1.543008e+01</td>\n",
       "      <td>0.000000</td>\n",
       "      <td>0.000000</td>\n",
       "    </tr>\n",
       "    <tr>\n",
       "      <th>25%</th>\n",
       "      <td>54201.500000</td>\n",
       "      <td>-9.203734e-01</td>\n",
       "      <td>-5.985499e-01</td>\n",
       "      <td>-8.903648e-01</td>\n",
       "      <td>-8.486401e-01</td>\n",
       "      <td>-6.915971e-01</td>\n",
       "      <td>-7.682956e-01</td>\n",
       "      <td>-5.540759e-01</td>\n",
       "      <td>-2.086297e-01</td>\n",
       "      <td>-6.430976e-01</td>\n",
       "      <td>...</td>\n",
       "      <td>-2.283949e-01</td>\n",
       "      <td>-5.423504e-01</td>\n",
       "      <td>-1.618463e-01</td>\n",
       "      <td>-3.545861e-01</td>\n",
       "      <td>-3.171451e-01</td>\n",
       "      <td>-3.269839e-01</td>\n",
       "      <td>-7.083953e-02</td>\n",
       "      <td>-5.295979e-02</td>\n",
       "      <td>5.600000</td>\n",
       "      <td>0.000000</td>\n",
       "    </tr>\n",
       "    <tr>\n",
       "      <th>50%</th>\n",
       "      <td>84692.000000</td>\n",
       "      <td>1.810880e-02</td>\n",
       "      <td>6.548556e-02</td>\n",
       "      <td>1.798463e-01</td>\n",
       "      <td>-1.984653e-02</td>\n",
       "      <td>-5.433583e-02</td>\n",
       "      <td>-2.741871e-01</td>\n",
       "      <td>4.010308e-02</td>\n",
       "      <td>2.235804e-02</td>\n",
       "      <td>-5.142873e-02</td>\n",
       "      <td>...</td>\n",
       "      <td>-2.945017e-02</td>\n",
       "      <td>6.781943e-03</td>\n",
       "      <td>-1.119293e-02</td>\n",
       "      <td>4.097606e-02</td>\n",
       "      <td>1.659350e-02</td>\n",
       "      <td>-5.213911e-02</td>\n",
       "      <td>1.342146e-03</td>\n",
       "      <td>1.124383e-02</td>\n",
       "      <td>22.000000</td>\n",
       "      <td>0.000000</td>\n",
       "    </tr>\n",
       "    <tr>\n",
       "      <th>75%</th>\n",
       "      <td>139320.500000</td>\n",
       "      <td>1.315642e+00</td>\n",
       "      <td>8.037239e-01</td>\n",
       "      <td>1.027196e+00</td>\n",
       "      <td>7.433413e-01</td>\n",
       "      <td>6.119264e-01</td>\n",
       "      <td>3.985649e-01</td>\n",
       "      <td>5.704361e-01</td>\n",
       "      <td>3.273459e-01</td>\n",
       "      <td>5.971390e-01</td>\n",
       "      <td>...</td>\n",
       "      <td>1.863772e-01</td>\n",
       "      <td>5.285536e-01</td>\n",
       "      <td>1.476421e-01</td>\n",
       "      <td>4.395266e-01</td>\n",
       "      <td>3.507156e-01</td>\n",
       "      <td>2.409522e-01</td>\n",
       "      <td>9.104512e-02</td>\n",
       "      <td>7.827995e-02</td>\n",
       "      <td>77.165000</td>\n",
       "      <td>0.000000</td>\n",
       "    </tr>\n",
       "    <tr>\n",
       "      <th>max</th>\n",
       "      <td>172792.000000</td>\n",
       "      <td>2.454930e+00</td>\n",
       "      <td>2.205773e+01</td>\n",
       "      <td>9.382558e+00</td>\n",
       "      <td>1.687534e+01</td>\n",
       "      <td>3.480167e+01</td>\n",
       "      <td>7.330163e+01</td>\n",
       "      <td>1.205895e+02</td>\n",
       "      <td>2.000721e+01</td>\n",
       "      <td>1.559499e+01</td>\n",
       "      <td>...</td>\n",
       "      <td>2.720284e+01</td>\n",
       "      <td>1.050309e+01</td>\n",
       "      <td>2.252841e+01</td>\n",
       "      <td>4.584549e+00</td>\n",
       "      <td>7.519589e+00</td>\n",
       "      <td>3.517346e+00</td>\n",
       "      <td>3.161220e+01</td>\n",
       "      <td>3.384781e+01</td>\n",
       "      <td>25691.160000</td>\n",
       "      <td>1.000000</td>\n",
       "    </tr>\n",
       "  </tbody>\n",
       "</table>\n",
       "<p>8 rows × 31 columns</p>\n",
       "</div>"
      ],
      "text/plain": [
       "                Time            V1            V2            V3            V4  \\\n",
       "count  284807.000000  2.848070e+05  2.848070e+05  2.848070e+05  2.848070e+05   \n",
       "mean    94813.859575  3.919560e-15  5.688174e-16 -8.769071e-15  2.782312e-15   \n",
       "std     47488.145955  1.958696e+00  1.651309e+00  1.516255e+00  1.415869e+00   \n",
       "min         0.000000 -5.640751e+01 -7.271573e+01 -4.832559e+01 -5.683171e+00   \n",
       "25%     54201.500000 -9.203734e-01 -5.985499e-01 -8.903648e-01 -8.486401e-01   \n",
       "50%     84692.000000  1.810880e-02  6.548556e-02  1.798463e-01 -1.984653e-02   \n",
       "75%    139320.500000  1.315642e+00  8.037239e-01  1.027196e+00  7.433413e-01   \n",
       "max    172792.000000  2.454930e+00  2.205773e+01  9.382558e+00  1.687534e+01   \n",
       "\n",
       "                 V5            V6            V7            V8            V9  \\\n",
       "count  2.848070e+05  2.848070e+05  2.848070e+05  2.848070e+05  2.848070e+05   \n",
       "mean  -1.552563e-15  2.010663e-15 -1.694249e-15 -1.927028e-16 -3.137024e-15   \n",
       "std    1.380247e+00  1.332271e+00  1.237094e+00  1.194353e+00  1.098632e+00   \n",
       "min   -1.137433e+02 -2.616051e+01 -4.355724e+01 -7.321672e+01 -1.343407e+01   \n",
       "25%   -6.915971e-01 -7.682956e-01 -5.540759e-01 -2.086297e-01 -6.430976e-01   \n",
       "50%   -5.433583e-02 -2.741871e-01  4.010308e-02  2.235804e-02 -5.142873e-02   \n",
       "75%    6.119264e-01  3.985649e-01  5.704361e-01  3.273459e-01  5.971390e-01   \n",
       "max    3.480167e+01  7.330163e+01  1.205895e+02  2.000721e+01  1.559499e+01   \n",
       "\n",
       "       ...           V21           V22           V23           V24  \\\n",
       "count  ...  2.848070e+05  2.848070e+05  2.848070e+05  2.848070e+05   \n",
       "mean   ...  1.537294e-16  7.959909e-16  5.367590e-16  4.458112e-15   \n",
       "std    ...  7.345240e-01  7.257016e-01  6.244603e-01  6.056471e-01   \n",
       "min    ... -3.483038e+01 -1.093314e+01 -4.480774e+01 -2.836627e+00   \n",
       "25%    ... -2.283949e-01 -5.423504e-01 -1.618463e-01 -3.545861e-01   \n",
       "50%    ... -2.945017e-02  6.781943e-03 -1.119293e-02  4.097606e-02   \n",
       "75%    ...  1.863772e-01  5.285536e-01  1.476421e-01  4.395266e-01   \n",
       "max    ...  2.720284e+01  1.050309e+01  2.252841e+01  4.584549e+00   \n",
       "\n",
       "                V25           V26           V27           V28         Amount  \\\n",
       "count  2.848070e+05  2.848070e+05  2.848070e+05  2.848070e+05  284807.000000   \n",
       "mean   1.453003e-15  1.699104e-15 -3.660161e-16 -1.206049e-16      88.349619   \n",
       "std    5.212781e-01  4.822270e-01  4.036325e-01  3.300833e-01     250.120109   \n",
       "min   -1.029540e+01 -2.604551e+00 -2.256568e+01 -1.543008e+01       0.000000   \n",
       "25%   -3.171451e-01 -3.269839e-01 -7.083953e-02 -5.295979e-02       5.600000   \n",
       "50%    1.659350e-02 -5.213911e-02  1.342146e-03  1.124383e-02      22.000000   \n",
       "75%    3.507156e-01  2.409522e-01  9.104512e-02  7.827995e-02      77.165000   \n",
       "max    7.519589e+00  3.517346e+00  3.161220e+01  3.384781e+01   25691.160000   \n",
       "\n",
       "               Class  \n",
       "count  284807.000000  \n",
       "mean        0.001727  \n",
       "std         0.041527  \n",
       "min         0.000000  \n",
       "25%         0.000000  \n",
       "50%         0.000000  \n",
       "75%         0.000000  \n",
       "max         1.000000  \n",
       "\n",
       "[8 rows x 31 columns]"
      ]
     },
     "execution_count": 4,
     "metadata": {},
     "output_type": "execute_result"
    }
   ],
   "source": [
    "df.describe()"
   ]
  },
  {
   "cell_type": "code",
   "execution_count": 5,
   "metadata": {},
   "outputs": [
    {
     "data": {
      "image/png": "[encoded data removed]",
      "text/plain": [
       "<Figure size 1224x936 with 28 Axes>"
      ]
     },
     "metadata": {
      "needs_background": "light"
     },
     "output_type": "display_data"
    }
   ],
   "source": [
    "ncols = 7\n",
    "nrows = 4\n",
    "fig, axs = plt.subplots(nrows, ncols, figsize=(17,13))\n",
    "\n",
    "count = 0\n",
    "for col in df.columns:\n",
    "    if 'V' in col:\n",
    "        sns.distplot(df[str(col)], ax=axs[count//ncols, count%ncols])\n",
    "        count += 1"
   ]
  },
  {
   "cell_type": "markdown",
   "metadata": {},
   "source": [
    "Atendiendo primero a las features/columnas 'Vx', la media de los valores correspondientes a estas es muy próxima a 0, lo cual se oberva muy bien en los gráficos de la figura de arriba. Por otro lado, algo que me llama la atención es que la desviación típica (std) de estas features disminuye a medida que el número x aumenta, desde 1.96 a 0.33 aproximadamente. Además, fijándonos en los valores máximos y mínimos de estas columnas y en los ejes X de los gráficos vemos como existen algunos valores atípicos.\n",
    "\n",
    "Con esta información podemos decir que los valores de estas columnas 'Vx' parecen seguir una **distribución normal**, es decir, la mayor parte de los valores se concentran en torno a la media, en una región muy reducida ya que la desviación típica es muy baja."
   ]
  },
  {
   "cell_type": "code",
   "execution_count": 8,
   "metadata": {},
   "outputs": [
    {
     "data": {
      "text/plain": [
       "<matplotlib.axes._subplots.AxesSubplot at 0x7fd764819490>"
      ]
     },
     "execution_count": 8,
     "metadata": {},
     "output_type": "execute_result"
    },
    {
     "data": {
      "image/png": "[encoded data removed]",
      "text/plain": [
       "<Figure size 936x288 with 2 Axes>"
      ]
     },
     "metadata": {
      "needs_background": "light"
     },
     "output_type": "display_data"
    }
   ],
   "source": [
    "fig, axs = plt.subplots(1, 2, figsize=(13,4))\n",
    "\n",
    "axs[0].title.set_text(\"Sin módulo\")\n",
    "sns.distplot(df['Time'], bins=48, kde=False, ax=axs[0])\n",
    "\n",
    "axs[1].title.set_text(\"Con módulo\")\n",
    "one_day = 3600 * 24  # Segundos en un día\n",
    "sns.distplot(df['Time']%one_day, bins=24, kde=False, ax=axs[1])"
   ]
  },
  {
   "cell_type": "markdown",
   "metadata": {},
   "source": [
    "Viendo los valores de la columna 'Time', en un primer momento podríamos pensar que se distribuyen aleatoriamente, aunque si nos fijamos en el gráfico de la izquierda las operaciones parecen agruparse en dos intervalos distintos que podrían corresponderse con las horas más activas de cada uno de los dos días. Teniendo en cuenta esto y las magnitudes de los valores de esta variable, he deducido que los valores de la columna 'Time' podrían representar los segundos transcurridos desde la primera operación.\n",
    "\n",
    "Por otro lado, al tener datos de dos días distintos, considero que el día puede no ser tan relevante como la hora/momento del día. De este modo, a cada valor de esta columna le puedo aplicar el módulo de los segundos que tiene un día para agrupar los valores por horas. Cabe destacar que en los dos gráficos de arriba he distribuido las operaciones de tarjeta de crédito en 48 y 24 *bins* respectivamente con el fin de mantener una relación de 1 día = 24 *bins*."
   ]
  },
  {
   "cell_type": "code",
   "execution_count": 7,
   "metadata": {},
   "outputs": [
    {
     "data": {
      "text/plain": [
       "<matplotlib.axes._subplots.AxesSubplot at 0x7fa124dfcc50>"
      ]
     },
     "execution_count": 7,
     "metadata": {},
     "output_type": "execute_result"
    },
    {
     "data": {
      "image/png": "[encoded data removed]",
      "text/plain": [
       "<Figure size 432x288 with 1 Axes>"
      ]
     },
     "metadata": {
      "needs_background": "light"
     },
     "output_type": "display_data"
    }
   ],
   "source": [
    "sns.rugplot(df['Amount'])"
   ]
  },
  {
   "cell_type": "markdown",
   "metadata": {},
   "source": [
    "Si nos fijamos en la media (88.35) de los valores de la columna 'Amount', sus cuartiles: Q1 (5.6), Q2/mediana (22) y Q3 (77.17), y el gráfico de arriba, en el que cada raya marca una operación distinta, observamos que la mayoría de las operaciones de tarjetas de crédito se realizan con cantidades bajas, y que las operaciones con grandes 'amounts' (que las hay) representan menos del 25%."
   ]
  },
  {
   "cell_type": "code",
   "execution_count": 8,
   "metadata": {},
   "outputs": [
    {
     "data": {
      "text/plain": [
       "0    284315\n",
       "1       492\n",
       "Name: Class, dtype: int64"
      ]
     },
     "execution_count": 8,
     "metadata": {},
     "output_type": "execute_result"
    }
   ],
   "source": [
    "df['Class'].value_counts()"
   ]
  },
  {
   "cell_type": "markdown",
   "metadata": {},
   "source": [
    "Centrándonos en la columna de la clase, vemos como sólo hay 2 valores (0 y 1) y como un 99.82% de los registros en el dataset se corresponden con la clase 0. Se trata entonces de un problema no balanceado, es decir, la clase 0 está sobrerrepresentada en comparación con la clase 1.\n",
    "\n",
    "Según esta información y suponiendo que las operaciones fraudulentas son las menos comunes, a partir de ahora voy a considerar a la clase 1 como operación fraudulenta."
   ]
  },
  {
   "cell_type": "code",
   "execution_count": 9,
   "metadata": {},
   "outputs": [
    {
     "data": {
      "text/plain": [
       "<seaborn.axisgrid.JointGrid at 0x7fa13d2c4e50>"
      ]
     },
     "execution_count": 9,
     "metadata": {},
     "output_type": "execute_result"
    },
    {
     "data": {
      "image/png": "[encoded data removed]",
      "text/plain": [
       "<Figure size 432x432 with 3 Axes>"
      ]
     },
     "metadata": {
      "needs_background": "light"
     },
     "output_type": "display_data"
    }
   ],
   "source": [
    "sns.jointplot(x='Class', y='Amount', data=df)"
   ]
  },
  {
   "cell_type": "markdown",
   "metadata": {},
   "source": [
    "La figura de arriba compara el 'Amount' de las operaciones con la clase en busca de una relación directa entre ambas. A simple vista, de acuerdo con las operaciones de tarjetas de crédito en nuestro dataset, podemos observar como aquellas que operan con grandes cantidades ('Amount'), que recordemos son valores atípicos, no están clasificadas como fraudulentas."
   ]
  },
  {
   "cell_type": "markdown",
   "metadata": {},
   "source": [
    "Para ver esto en más detalle con el resto de variables recurro a la matriz de correlación, la cual nos muestra la correlación, negativa o positiva, de cada una de las variables con la clase."
   ]
  },
  {
   "cell_type": "code",
   "execution_count": 13,
   "metadata": {},
   "outputs": [
    {
     "name": "stdout",
     "output_type": "stream",
     "text": [
      "Time     -0.012323\n",
      "V1       -0.101347\n",
      "V2        0.091289\n",
      "V3       -0.192961\n",
      "V4        0.133447\n",
      "V5       -0.094974\n",
      "V6       -0.043643\n",
      "V7       -0.187257\n",
      "V8        0.019875\n",
      "V9       -0.097733\n",
      "V10      -0.216883\n",
      "V11       0.154876\n",
      "V12      -0.260593\n",
      "V13      -0.004570\n",
      "V14      -0.302544\n",
      "V15      -0.004223\n",
      "V16      -0.196539\n",
      "V17      -0.326481\n",
      "V18      -0.111485\n",
      "V19       0.034783\n",
      "V20       0.020090\n",
      "V21       0.040413\n",
      "V22       0.000805\n",
      "V23      -0.002685\n",
      "V24      -0.007221\n",
      "V25       0.003308\n",
      "V26       0.004455\n",
      "V27       0.017580\n",
      "V28       0.009536\n",
      "Amount    0.005632\n",
      "Class     1.000000\n",
      "Name: Class, dtype: float64\n"
     ]
    },
    {
     "data": {
      "text/plain": [
       "<matplotlib.axes._subplots.AxesSubplot at 0x7fd763db0c50>"
      ]
     },
     "execution_count": 13,
     "metadata": {},
     "output_type": "execute_result"
    },
    {
     "data": {
      "image/png": "[encoded data removed]",
      "text/plain": [
       "<Figure size 720x720 with 2 Axes>"
      ]
     },
     "metadata": {
      "needs_background": "light"
     },
     "output_type": "display_data"
    }
   ],
   "source": [
    "corr = df.corr()\n",
    "\n",
    "print(corr['Class'])\n",
    "\n",
    "_, ax = plt.subplots(figsize=(10,10))\n",
    "sns.heatmap(corr, vmin=-1, vmax=1, cmap=sns.diverging_palette(20, 220, n=20), square=True, ax=ax)"
   ]
  },
  {
   "cell_type": "markdown",
   "metadata": {},
   "source": [
    "Con la información de arriba observamos como, por ejemplo, las variables 'Time' y 'Amount' tienen una muy baja correlación con la clase. Sin embargo, otras variables como 'V14' y 'V17' guardan una mayor correlación (negativa) con la clase en comparación con el resto"
   ]
  },
  {
   "cell_type": "markdown",
   "metadata": {},
   "source": [
    "![purple-divider](https://user-images.githubusercontent.com/7065401/52071927-c1cd7100-2562-11e9-908a-dde91ba14e59.png)\n",
    "\n",
    "# Preparación de los datos"
   ]
  },
  {
   "cell_type": "code",
   "execution_count": 11,
   "metadata": {},
   "outputs": [
    {
     "data": {
      "text/plain": [
       "Time      0\n",
       "V1        0\n",
       "V2        0\n",
       "V3        0\n",
       "V4        0\n",
       "V5        0\n",
       "V6        0\n",
       "V7        0\n",
       "V8        0\n",
       "V9        0\n",
       "V10       0\n",
       "V11       0\n",
       "V12       0\n",
       "V13       0\n",
       "V14       0\n",
       "V15       0\n",
       "V16       0\n",
       "V17       0\n",
       "V18       0\n",
       "V19       0\n",
       "V20       0\n",
       "V21       0\n",
       "V22       0\n",
       "V23       0\n",
       "V24       0\n",
       "V25       0\n",
       "V26       0\n",
       "V27       0\n",
       "V28       0\n",
       "Amount    0\n",
       "Class     0\n",
       "dtype: int64"
      ]
     },
     "execution_count": 11,
     "metadata": {},
     "output_type": "execute_result"
    }
   ],
   "source": [
    "df.isnull().sum()"
   ]
  },
  {
   "cell_type": "markdown",
   "metadata": {},
   "source": [
    "Al buscar valores nulos no encontramos ninguno en el dataset."
   ]
  },
  {
   "cell_type": "code",
   "execution_count": 4,
   "metadata": {},
   "outputs": [],
   "source": [
    "from sklearn.preprocessing import RobustScaler\n",
    "\n",
    "def robust_scaling(df_col):\n",
    "    aux = df_col.to_numpy().reshape(-1,1)\n",
    "    return RobustScaler().fit_transform(aux)"
   ]
  },
  {
   "cell_type": "code",
   "execution_count": 5,
   "metadata": {},
   "outputs": [],
   "source": [
    "def z_score(df_col):\n",
    "    return (df_col - df_col.mean()) / df_col.std()"
   ]
  },
  {
   "cell_type": "code",
   "execution_count": 6,
   "metadata": {},
   "outputs": [],
   "source": [
    "def min_max_scaling(df_col):\n",
    "    return (df_col - df_col.min()) / (df_col.max() - df_col.min())"
   ]
  },
  {
   "cell_type": "markdown",
   "metadata": {},
   "source": [
    "Cuando hay features/columnas cuyos valores son muy grandes comparados con otras, estos valores pueden alterar el comportamiento de algunos algoritmos de ML.\n",
    "\n",
    "En este caso he pensado en:\n",
    "- Escalar el rango de la columna 'Time' a [0, 1] después de aplicar el módulo de los segundos de un día a cada valor.\n",
    "- Estandarizar los valores de la columna 'Amount'. Sin embargo, los valores atípicos de esta pueden afectar negativamente a la media y la desviación típica. Para superar esto voy a probar una técnica llamada Robust Scaling que usa la mediana y el rango intercuartílico."
   ]
  },
  {
   "cell_type": "code",
   "execution_count": 9,
   "metadata": {},
   "outputs": [],
   "source": [
    "### COLUMNA 'TIME' ###\n",
    "\n",
    "#df_copy = df.drop(columns=['Time'])\n",
    "df_copy = df.copy()\n",
    "df_copy['Time'] = df_copy['Time'] % one_day  # Aplicar el módulo de los segundos de un día\n",
    "df_copy['Time'] = min_max_scaling(df_copy['Time'])"
   ]
  },
  {
   "cell_type": "code",
   "execution_count": 10,
   "metadata": {},
   "outputs": [
    {
     "data": {
      "text/plain": [
       "<matplotlib.axes._subplots.AxesSubplot at 0x7fd764ea6090>"
      ]
     },
     "execution_count": 10,
     "metadata": {},
     "output_type": "execute_result"
    },
    {
     "data": {
      "image/png": "[encoded data removed]",
      "text/plain": [
       "<Figure size 936x288 with 2 Axes>"
      ]
     },
     "metadata": {
      "needs_background": "light"
     },
     "output_type": "display_data"
    }
   ],
   "source": [
    "### COLUMNA 'AMOUNT' ###\n",
    "\n",
    "fig, axs = plt.subplots(1, 2, figsize=(13,4))\n",
    "\n",
    "axs[0].title.set_text(\"Before scaling\")\n",
    "#print(df['Amount'].min(), df['Amount'].max())\n",
    "#print(df['Amount'].mean(), df['Amount'].std())\n",
    "sns.distplot(df['Amount'], ax=axs[0])\n",
    "\n",
    "axs[1].title.set_text(\"After scaling\")\n",
    "df_copy['Amount'] = robust_scaling(df_copy['Amount'])\n",
    "#print(df_copy['Amount'].min(), df_copy['Amount'].max())\n",
    "#print(df_copy['Amount'].mean(), df_copy['Amount'].std())\n",
    "sns.distplot(df_copy['Amount'], ax=axs[1])"
   ]
  },
  {
   "cell_type": "markdown",
   "metadata": {},
   "source": [
    "En las siguientes celdas vamos a ver si tiene sentido aplicar alguna de estas técnicas con el resto de las columnas."
   ]
  },
  {
   "cell_type": "code",
   "execution_count": 17,
   "metadata": {},
   "outputs": [],
   "source": [
    "def plot_V_graphs(col):\n",
    "    fig, axs = plt.subplots(1, 4, figsize=(17, 3))\n",
    "\n",
    "    axs[0].title.set_text(\"Original\")\n",
    "    #print(df[col].min(), df[col].max())\n",
    "    #print(df[col].mean(), df[col].std())\n",
    "    sns.distplot(df[col], ax=axs[0])\n",
    "\n",
    "    axs[1].title.set_text(\"Z-score\")\n",
    "    aux = z_score(df_copy[col])\n",
    "    #print(aux.min(), aux.max())\n",
    "    #print(aux.mean(), aux.std())\n",
    "    sns.distplot(aux, ax=axs[1])\n",
    "\n",
    "    axs[2].title.set_text(\"Min-max\")\n",
    "    aux = min_max_scaling(df_copy[col])\n",
    "    #print(aux.min(), aux.max())\n",
    "    #print(aux.mean(), aux.std())\n",
    "    sns.distplot(aux, ax=axs[2])\n",
    "\n",
    "    axs[3].title.set_text(\"Robust scaling\")\n",
    "    aux = robust_scaling(df_copy[col])\n",
    "    #print(aux.min(), aux.max())\n",
    "    #print(aux.mean(), aux.std())\n",
    "    sns.distplot(aux, ax=axs[3])"
   ]
  },
  {
   "cell_type": "code",
   "execution_count": 18,
   "metadata": {},
   "outputs": [
    {
     "data": {
      "image/png": "[encoded data removed]",
      "text/plain": [
       "<Figure size 1224x216 with 4 Axes>"
      ]
     },
     "metadata": {
      "needs_background": "light"
     },
     "output_type": "display_data"
    }
   ],
   "source": [
    "plot_V_graphs('V1')"
   ]
  },
  {
   "cell_type": "code",
   "execution_count": 19,
   "metadata": {},
   "outputs": [
    {
     "data": {
      "image/png": "[encoded data removed]",
      "text/plain": [
       "<Figure size 1224x216 with 4 Axes>"
      ]
     },
     "metadata": {
      "needs_background": "light"
     },
     "output_type": "display_data"
    }
   ],
   "source": [
    "plot_V_graphs('V7')"
   ]
  },
  {
   "cell_type": "markdown",
   "metadata": {},
   "source": [
    "Observando los gráficos obtenidos para estas dos variables se pueden realizar las siguientes afirmaciones:\n",
    "- *Z-score* no cambia mucho los valores debido a que estas variables ya siguen una distribución normal de media 0 y desviación típica cercana a 1.\n",
    "- Lo mismo acurre con *Robust scaling*, el único efecto que consigue este método es reducir ligeramente los valores atípicos.\n",
    "- *Min-max scaling* parece desvirtuar los valores de las variables concentrándolos en el 0 o 1 según los valores atípicos sean positivos o negativos respectivamente.\n",
    "\n",
    "De este modo, he llegado a la conclusión de no escalar ni modificar la distribución de las variables V1,...,V28."
   ]
  },
  {
   "cell_type": "code",
   "execution_count": 11,
   "metadata": {},
   "outputs": [
    {
     "data": {
      "text/html": [
       "<div>\n",
       "<style scoped>\n",
       "    .dataframe tbody tr th:only-of-type {\n",
       "        vertical-align: middle;\n",
       "    }\n",
       "\n",
       "    .dataframe tbody tr th {\n",
       "        vertical-align: top;\n",
       "    }\n",
       "\n",
       "    .dataframe thead th {\n",
       "        text-align: right;\n",
       "    }\n",
       "</style>\n",
       "<table border=\"1\" class=\"dataframe\">\n",
       "  <thead>\n",
       "    <tr style=\"text-align: right;\">\n",
       "      <th></th>\n",
       "      <th>Time</th>\n",
       "      <th>V1</th>\n",
       "      <th>V2</th>\n",
       "      <th>V3</th>\n",
       "      <th>V4</th>\n",
       "      <th>V5</th>\n",
       "      <th>V6</th>\n",
       "      <th>V7</th>\n",
       "      <th>V8</th>\n",
       "      <th>V9</th>\n",
       "      <th>...</th>\n",
       "      <th>V21</th>\n",
       "      <th>V22</th>\n",
       "      <th>V23</th>\n",
       "      <th>V24</th>\n",
       "      <th>V25</th>\n",
       "      <th>V26</th>\n",
       "      <th>V27</th>\n",
       "      <th>V28</th>\n",
       "      <th>Amount</th>\n",
       "      <th>Class</th>\n",
       "    </tr>\n",
       "  </thead>\n",
       "  <tbody>\n",
       "    <tr>\n",
       "      <th>0</th>\n",
       "      <td>0.000000</td>\n",
       "      <td>-1.359807</td>\n",
       "      <td>-0.072781</td>\n",
       "      <td>2.536347</td>\n",
       "      <td>1.378155</td>\n",
       "      <td>-0.338321</td>\n",
       "      <td>0.462388</td>\n",
       "      <td>0.239599</td>\n",
       "      <td>0.098698</td>\n",
       "      <td>0.363787</td>\n",
       "      <td>...</td>\n",
       "      <td>-0.018307</td>\n",
       "      <td>0.277838</td>\n",
       "      <td>-0.110474</td>\n",
       "      <td>0.066928</td>\n",
       "      <td>0.128539</td>\n",
       "      <td>-0.189115</td>\n",
       "      <td>0.133558</td>\n",
       "      <td>-0.021053</td>\n",
       "      <td>1.783274</td>\n",
       "      <td>0</td>\n",
       "    </tr>\n",
       "    <tr>\n",
       "      <th>1</th>\n",
       "      <td>0.000000</td>\n",
       "      <td>1.191857</td>\n",
       "      <td>0.266151</td>\n",
       "      <td>0.166480</td>\n",
       "      <td>0.448154</td>\n",
       "      <td>0.060018</td>\n",
       "      <td>-0.082361</td>\n",
       "      <td>-0.078803</td>\n",
       "      <td>0.085102</td>\n",
       "      <td>-0.255425</td>\n",
       "      <td>...</td>\n",
       "      <td>-0.225775</td>\n",
       "      <td>-0.638672</td>\n",
       "      <td>0.101288</td>\n",
       "      <td>-0.339846</td>\n",
       "      <td>0.167170</td>\n",
       "      <td>0.125895</td>\n",
       "      <td>-0.008983</td>\n",
       "      <td>0.014724</td>\n",
       "      <td>-0.269825</td>\n",
       "      <td>0</td>\n",
       "    </tr>\n",
       "    <tr>\n",
       "      <th>2</th>\n",
       "      <td>0.000012</td>\n",
       "      <td>-1.358354</td>\n",
       "      <td>-1.340163</td>\n",
       "      <td>1.773209</td>\n",
       "      <td>0.379780</td>\n",
       "      <td>-0.503198</td>\n",
       "      <td>1.800499</td>\n",
       "      <td>0.791461</td>\n",
       "      <td>0.247676</td>\n",
       "      <td>-1.514654</td>\n",
       "      <td>...</td>\n",
       "      <td>0.247998</td>\n",
       "      <td>0.771679</td>\n",
       "      <td>0.909412</td>\n",
       "      <td>-0.689281</td>\n",
       "      <td>-0.327642</td>\n",
       "      <td>-0.139097</td>\n",
       "      <td>-0.055353</td>\n",
       "      <td>-0.059752</td>\n",
       "      <td>4.983721</td>\n",
       "      <td>0</td>\n",
       "    </tr>\n",
       "    <tr>\n",
       "      <th>3</th>\n",
       "      <td>0.000012</td>\n",
       "      <td>-0.966272</td>\n",
       "      <td>-0.185226</td>\n",
       "      <td>1.792993</td>\n",
       "      <td>-0.863291</td>\n",
       "      <td>-0.010309</td>\n",
       "      <td>1.247203</td>\n",
       "      <td>0.237609</td>\n",
       "      <td>0.377436</td>\n",
       "      <td>-1.387024</td>\n",
       "      <td>...</td>\n",
       "      <td>-0.108300</td>\n",
       "      <td>0.005274</td>\n",
       "      <td>-0.190321</td>\n",
       "      <td>-1.175575</td>\n",
       "      <td>0.647376</td>\n",
       "      <td>-0.221929</td>\n",
       "      <td>0.062723</td>\n",
       "      <td>0.061458</td>\n",
       "      <td>1.418291</td>\n",
       "      <td>0</td>\n",
       "    </tr>\n",
       "    <tr>\n",
       "      <th>4</th>\n",
       "      <td>0.000023</td>\n",
       "      <td>-1.158233</td>\n",
       "      <td>0.877737</td>\n",
       "      <td>1.548718</td>\n",
       "      <td>0.403034</td>\n",
       "      <td>-0.407193</td>\n",
       "      <td>0.095921</td>\n",
       "      <td>0.592941</td>\n",
       "      <td>-0.270533</td>\n",
       "      <td>0.817739</td>\n",
       "      <td>...</td>\n",
       "      <td>-0.009431</td>\n",
       "      <td>0.798278</td>\n",
       "      <td>-0.137458</td>\n",
       "      <td>0.141267</td>\n",
       "      <td>-0.206010</td>\n",
       "      <td>0.502292</td>\n",
       "      <td>0.219422</td>\n",
       "      <td>0.215153</td>\n",
       "      <td>0.670579</td>\n",
       "      <td>0</td>\n",
       "    </tr>\n",
       "    <tr>\n",
       "      <th>...</th>\n",
       "      <td>...</td>\n",
       "      <td>...</td>\n",
       "      <td>...</td>\n",
       "      <td>...</td>\n",
       "      <td>...</td>\n",
       "      <td>...</td>\n",
       "      <td>...</td>\n",
       "      <td>...</td>\n",
       "      <td>...</td>\n",
       "      <td>...</td>\n",
       "      <td>...</td>\n",
       "      <td>...</td>\n",
       "      <td>...</td>\n",
       "      <td>...</td>\n",
       "      <td>...</td>\n",
       "      <td>...</td>\n",
       "      <td>...</td>\n",
       "      <td>...</td>\n",
       "      <td>...</td>\n",
       "      <td>...</td>\n",
       "      <td>...</td>\n",
       "    </tr>\n",
       "    <tr>\n",
       "      <th>284802</th>\n",
       "      <td>0.999861</td>\n",
       "      <td>-11.881118</td>\n",
       "      <td>10.071785</td>\n",
       "      <td>-9.834783</td>\n",
       "      <td>-2.066656</td>\n",
       "      <td>-5.364473</td>\n",
       "      <td>-2.606837</td>\n",
       "      <td>-4.918215</td>\n",
       "      <td>7.305334</td>\n",
       "      <td>1.914428</td>\n",
       "      <td>...</td>\n",
       "      <td>0.213454</td>\n",
       "      <td>0.111864</td>\n",
       "      <td>1.014480</td>\n",
       "      <td>-0.509348</td>\n",
       "      <td>1.436807</td>\n",
       "      <td>0.250034</td>\n",
       "      <td>0.943651</td>\n",
       "      <td>0.823731</td>\n",
       "      <td>-0.296653</td>\n",
       "      <td>0</td>\n",
       "    </tr>\n",
       "    <tr>\n",
       "      <th>284803</th>\n",
       "      <td>0.999873</td>\n",
       "      <td>-0.732789</td>\n",
       "      <td>-0.055080</td>\n",
       "      <td>2.035030</td>\n",
       "      <td>-0.738589</td>\n",
       "      <td>0.868229</td>\n",
       "      <td>1.058415</td>\n",
       "      <td>0.024330</td>\n",
       "      <td>0.294869</td>\n",
       "      <td>0.584800</td>\n",
       "      <td>...</td>\n",
       "      <td>0.214205</td>\n",
       "      <td>0.924384</td>\n",
       "      <td>0.012463</td>\n",
       "      <td>-1.016226</td>\n",
       "      <td>-0.606624</td>\n",
       "      <td>-0.395255</td>\n",
       "      <td>0.068472</td>\n",
       "      <td>-0.053527</td>\n",
       "      <td>0.038986</td>\n",
       "      <td>0</td>\n",
       "    </tr>\n",
       "    <tr>\n",
       "      <th>284804</th>\n",
       "      <td>0.999884</td>\n",
       "      <td>1.919565</td>\n",
       "      <td>-0.301254</td>\n",
       "      <td>-3.249640</td>\n",
       "      <td>-0.557828</td>\n",
       "      <td>2.630515</td>\n",
       "      <td>3.031260</td>\n",
       "      <td>-0.296827</td>\n",
       "      <td>0.708417</td>\n",
       "      <td>0.432454</td>\n",
       "      <td>...</td>\n",
       "      <td>0.232045</td>\n",
       "      <td>0.578229</td>\n",
       "      <td>-0.037501</td>\n",
       "      <td>0.640134</td>\n",
       "      <td>0.265745</td>\n",
       "      <td>-0.087371</td>\n",
       "      <td>0.004455</td>\n",
       "      <td>-0.026561</td>\n",
       "      <td>0.641096</td>\n",
       "      <td>0</td>\n",
       "    </tr>\n",
       "    <tr>\n",
       "      <th>284805</th>\n",
       "      <td>0.999884</td>\n",
       "      <td>-0.240440</td>\n",
       "      <td>0.530483</td>\n",
       "      <td>0.702510</td>\n",
       "      <td>0.689799</td>\n",
       "      <td>-0.377961</td>\n",
       "      <td>0.623708</td>\n",
       "      <td>-0.686180</td>\n",
       "      <td>0.679145</td>\n",
       "      <td>0.392087</td>\n",
       "      <td>...</td>\n",
       "      <td>0.265245</td>\n",
       "      <td>0.800049</td>\n",
       "      <td>-0.163298</td>\n",
       "      <td>0.123205</td>\n",
       "      <td>-0.569159</td>\n",
       "      <td>0.546668</td>\n",
       "      <td>0.108821</td>\n",
       "      <td>0.104533</td>\n",
       "      <td>-0.167680</td>\n",
       "      <td>0</td>\n",
       "    </tr>\n",
       "    <tr>\n",
       "      <th>284806</th>\n",
       "      <td>0.999931</td>\n",
       "      <td>-0.533413</td>\n",
       "      <td>-0.189733</td>\n",
       "      <td>0.703337</td>\n",
       "      <td>-0.506271</td>\n",
       "      <td>-0.012546</td>\n",
       "      <td>-0.649617</td>\n",
       "      <td>1.577006</td>\n",
       "      <td>-0.414650</td>\n",
       "      <td>0.486180</td>\n",
       "      <td>...</td>\n",
       "      <td>0.261057</td>\n",
       "      <td>0.643078</td>\n",
       "      <td>0.376777</td>\n",
       "      <td>0.008797</td>\n",
       "      <td>-0.473649</td>\n",
       "      <td>-0.818267</td>\n",
       "      <td>-0.002415</td>\n",
       "      <td>0.013649</td>\n",
       "      <td>2.724796</td>\n",
       "      <td>0</td>\n",
       "    </tr>\n",
       "  </tbody>\n",
       "</table>\n",
       "<p>284807 rows × 31 columns</p>\n",
       "</div>"
      ],
      "text/plain": [
       "            Time         V1         V2        V3        V4        V5  \\\n",
       "0       0.000000  -1.359807  -0.072781  2.536347  1.378155 -0.338321   \n",
       "1       0.000000   1.191857   0.266151  0.166480  0.448154  0.060018   \n",
       "2       0.000012  -1.358354  -1.340163  1.773209  0.379780 -0.503198   \n",
       "3       0.000012  -0.966272  -0.185226  1.792993 -0.863291 -0.010309   \n",
       "4       0.000023  -1.158233   0.877737  1.548718  0.403034 -0.407193   \n",
       "...          ...        ...        ...       ...       ...       ...   \n",
       "284802  0.999861 -11.881118  10.071785 -9.834783 -2.066656 -5.364473   \n",
       "284803  0.999873  -0.732789  -0.055080  2.035030 -0.738589  0.868229   \n",
       "284804  0.999884   1.919565  -0.301254 -3.249640 -0.557828  2.630515   \n",
       "284805  0.999884  -0.240440   0.530483  0.702510  0.689799 -0.377961   \n",
       "284806  0.999931  -0.533413  -0.189733  0.703337 -0.506271 -0.012546   \n",
       "\n",
       "              V6        V7        V8        V9  ...       V21       V22  \\\n",
       "0       0.462388  0.239599  0.098698  0.363787  ... -0.018307  0.277838   \n",
       "1      -0.082361 -0.078803  0.085102 -0.255425  ... -0.225775 -0.638672   \n",
       "2       1.800499  0.791461  0.247676 -1.514654  ...  0.247998  0.771679   \n",
       "3       1.247203  0.237609  0.377436 -1.387024  ... -0.108300  0.005274   \n",
       "4       0.095921  0.592941 -0.270533  0.817739  ... -0.009431  0.798278   \n",
       "...          ...       ...       ...       ...  ...       ...       ...   \n",
       "284802 -2.606837 -4.918215  7.305334  1.914428  ...  0.213454  0.111864   \n",
       "284803  1.058415  0.024330  0.294869  0.584800  ...  0.214205  0.924384   \n",
       "284804  3.031260 -0.296827  0.708417  0.432454  ...  0.232045  0.578229   \n",
       "284805  0.623708 -0.686180  0.679145  0.392087  ...  0.265245  0.800049   \n",
       "284806 -0.649617  1.577006 -0.414650  0.486180  ...  0.261057  0.643078   \n",
       "\n",
       "             V23       V24       V25       V26       V27       V28    Amount  \\\n",
       "0      -0.110474  0.066928  0.128539 -0.189115  0.133558 -0.021053  1.783274   \n",
       "1       0.101288 -0.339846  0.167170  0.125895 -0.008983  0.014724 -0.269825   \n",
       "2       0.909412 -0.689281 -0.327642 -0.139097 -0.055353 -0.059752  4.983721   \n",
       "3      -0.190321 -1.175575  0.647376 -0.221929  0.062723  0.061458  1.418291   \n",
       "4      -0.137458  0.141267 -0.206010  0.502292  0.219422  0.215153  0.670579   \n",
       "...          ...       ...       ...       ...       ...       ...       ...   \n",
       "284802  1.014480 -0.509348  1.436807  0.250034  0.943651  0.823731 -0.296653   \n",
       "284803  0.012463 -1.016226 -0.606624 -0.395255  0.068472 -0.053527  0.038986   \n",
       "284804 -0.037501  0.640134  0.265745 -0.087371  0.004455 -0.026561  0.641096   \n",
       "284805 -0.163298  0.123205 -0.569159  0.546668  0.108821  0.104533 -0.167680   \n",
       "284806  0.376777  0.008797 -0.473649 -0.818267 -0.002415  0.013649  2.724796   \n",
       "\n",
       "        Class  \n",
       "0           0  \n",
       "1           0  \n",
       "2           0  \n",
       "3           0  \n",
       "4           0  \n",
       "...       ...  \n",
       "284802      0  \n",
       "284803      0  \n",
       "284804      0  \n",
       "284805      0  \n",
       "284806      0  \n",
       "\n",
       "[284807 rows x 31 columns]"
      ]
     },
     "execution_count": 11,
     "metadata": {},
     "output_type": "execute_result"
    }
   ],
   "source": [
    "df_copy"
   ]
  },
  {
   "cell_type": "markdown",
   "metadata": {},
   "source": [
    "Otra propuesta podría ser trabajar únicamente con aquellas columnas que guardan una mayor correlación con la clase. Con esta idea creamos el siguiente DataFrame con aquellas variables cuya correlación con la clase tenga un valor absoluto mayor que 0.15."
   ]
  },
  {
   "cell_type": "code",
   "execution_count": 14,
   "metadata": {},
   "outputs": [
    {
     "data": {
      "text/html": [
       "<div>\n",
       "<style scoped>\n",
       "    .dataframe tbody tr th:only-of-type {\n",
       "        vertical-align: middle;\n",
       "    }\n",
       "\n",
       "    .dataframe tbody tr th {\n",
       "        vertical-align: top;\n",
       "    }\n",
       "\n",
       "    .dataframe thead th {\n",
       "        text-align: right;\n",
       "    }\n",
       "</style>\n",
       "<table border=\"1\" class=\"dataframe\">\n",
       "  <thead>\n",
       "    <tr style=\"text-align: right;\">\n",
       "      <th></th>\n",
       "      <th>V3</th>\n",
       "      <th>V7</th>\n",
       "      <th>V10</th>\n",
       "      <th>V11</th>\n",
       "      <th>V12</th>\n",
       "      <th>V14</th>\n",
       "      <th>V16</th>\n",
       "      <th>V17</th>\n",
       "      <th>Class</th>\n",
       "    </tr>\n",
       "  </thead>\n",
       "  <tbody>\n",
       "    <tr>\n",
       "      <th>0</th>\n",
       "      <td>2.536347</td>\n",
       "      <td>0.239599</td>\n",
       "      <td>0.090794</td>\n",
       "      <td>-0.551600</td>\n",
       "      <td>-0.617801</td>\n",
       "      <td>-0.311169</td>\n",
       "      <td>-0.470401</td>\n",
       "      <td>0.207971</td>\n",
       "      <td>0</td>\n",
       "    </tr>\n",
       "    <tr>\n",
       "      <th>1</th>\n",
       "      <td>0.166480</td>\n",
       "      <td>-0.078803</td>\n",
       "      <td>-0.166974</td>\n",
       "      <td>1.612727</td>\n",
       "      <td>1.065235</td>\n",
       "      <td>-0.143772</td>\n",
       "      <td>0.463917</td>\n",
       "      <td>-0.114805</td>\n",
       "      <td>0</td>\n",
       "    </tr>\n",
       "    <tr>\n",
       "      <th>2</th>\n",
       "      <td>1.773209</td>\n",
       "      <td>0.791461</td>\n",
       "      <td>0.207643</td>\n",
       "      <td>0.624501</td>\n",
       "      <td>0.066084</td>\n",
       "      <td>-0.165946</td>\n",
       "      <td>-2.890083</td>\n",
       "      <td>1.109969</td>\n",
       "      <td>0</td>\n",
       "    </tr>\n",
       "    <tr>\n",
       "      <th>3</th>\n",
       "      <td>1.792993</td>\n",
       "      <td>0.237609</td>\n",
       "      <td>-0.054952</td>\n",
       "      <td>-0.226487</td>\n",
       "      <td>0.178228</td>\n",
       "      <td>-0.287924</td>\n",
       "      <td>-1.059647</td>\n",
       "      <td>-0.684093</td>\n",
       "      <td>0</td>\n",
       "    </tr>\n",
       "    <tr>\n",
       "      <th>4</th>\n",
       "      <td>1.548718</td>\n",
       "      <td>0.592941</td>\n",
       "      <td>0.753074</td>\n",
       "      <td>-0.822843</td>\n",
       "      <td>0.538196</td>\n",
       "      <td>-1.119670</td>\n",
       "      <td>-0.451449</td>\n",
       "      <td>-0.237033</td>\n",
       "      <td>0</td>\n",
       "    </tr>\n",
       "  </tbody>\n",
       "</table>\n",
       "</div>"
      ],
      "text/plain": [
       "         V3        V7       V10       V11       V12       V14       V16  \\\n",
       "0  2.536347  0.239599  0.090794 -0.551600 -0.617801 -0.311169 -0.470401   \n",
       "1  0.166480 -0.078803 -0.166974  1.612727  1.065235 -0.143772  0.463917   \n",
       "2  1.773209  0.791461  0.207643  0.624501  0.066084 -0.165946 -2.890083   \n",
       "3  1.792993  0.237609 -0.054952 -0.226487  0.178228 -0.287924 -1.059647   \n",
       "4  1.548718  0.592941  0.753074 -0.822843  0.538196 -1.119670 -0.451449   \n",
       "\n",
       "        V17  Class  \n",
       "0  0.207971      0  \n",
       "1 -0.114805      0  \n",
       "2  1.109969      0  \n",
       "3 -0.684093      0  \n",
       "4 -0.237033      0  "
      ]
     },
     "execution_count": 14,
     "metadata": {},
     "output_type": "execute_result"
    }
   ],
   "source": [
    "columns = [col for col in df.columns if abs(corr['Class'][col]) > 0.15]\n",
    "corr_df = df[columns]\n",
    "corr_df.head()"
   ]
  },
  {
   "cell_type": "markdown",
   "metadata": {},
   "source": [
    "![purple-divider](https://user-images.githubusercontent.com/7065401/52071927-c1cd7100-2562-11e9-908a-dde91ba14e59.png)\n",
    "\n",
    "# Predicción"
   ]
  },
  {
   "cell_type": "code",
   "execution_count": 15,
   "metadata": {},
   "outputs": [],
   "source": [
    "import tensorflow as tf\n",
    "\n",
    "from tensorflow.keras import layers, losses\n",
    "from sklearn.model_selection import train_test_split\n",
    "from sklearn.metrics import classification_report, confusion_matrix\n",
    "\n",
    "from sklearn.linear_model import LogisticRegression\n",
    "from sklearn.tree import DecisionTreeClassifier\n",
    "from sklearn.ensemble import RandomForestClassifier\n",
    "from sklearn.svm import SVC\n",
    "\n",
    "from imblearn.over_sampling import RandomOverSampler\n",
    "from imblearn.under_sampling import RandomUnderSampler"
   ]
  },
  {
   "cell_type": "markdown",
   "metadata": {},
   "source": [
    "Ya que el dataset contiene la clase de cada operación podemos aplicar algoritmos de **aprendizaje supervisado**, los cuales se basan en encontrar la relación entre unas variables de entrada y unas variables de salida. Dicho de otro modo, el aprendizaje se consigue mostrando a los algoritmos el resultado deseado con unos determinados valores de entrada.\n",
    "\n",
    "Lo primero que voy a hacer es extraer la clase de cada uno de los dos DataFrames que tenemos."
   ]
  },
  {
   "cell_type": "code",
   "execution_count": 16,
   "metadata": {},
   "outputs": [],
   "source": [
    "target = df_copy['Class']\n",
    "target_corr = corr_df['Class']\n",
    "\n",
    "input_data = df_copy.drop(columns=['Class'])\n",
    "input_data_corr = corr_df.drop(columns=['Class'])"
   ]
  },
  {
   "cell_type": "markdown",
   "metadata": {},
   "source": [
    "![green-divider](https://user-images.githubusercontent.com/7065401/52071924-c003ad80-2562-11e9-8297-1c6595f8a7ff.png)\n",
    "\n",
    "## Neural network model\n",
    "\n",
    "El primer algoritmo que voy a probar es una red neuronal profunda con 2 *hidden layers* y una única variable de salida a la que se le aplica la función de activación \"sigmoid\" (la misma que en una regresión logística). Esta función devuelve la probabilidad (entre 0 y 1) de que ocurra un evento, en este caso la probabilidad de que haya fraude.\n",
    "\n",
    "También aplico \"*Dropout*\" como una técnica de regularización que consiste en poner a 0 (*dropping out*) aleatoriamente un porcentaje de las variables de salida de una capa, en este caso un 20%. Esto se hace únicamente durante el entrenamiento del modelo.\n",
    "\n",
    "De este modo, divido el dataset en tres conjuntos que mantengan la misma proporción de clases (*stratification*), utilizando un 70% del dataset original para entrenar el modelo y un 15% para los datos validación y evaluación respectivamente. "
   ]
  },
  {
   "cell_type": "code",
   "execution_count": 24,
   "metadata": {},
   "outputs": [],
   "source": [
    "X_train, X_aux, y_train, y_aux = train_test_split(input_data, target, stratify=target, test_size=0.3)\n",
    "X_val, X_test, y_val, y_test = train_test_split(X_aux, y_aux, stratify=y_aux, test_size=0.5)"
   ]
  },
  {
   "cell_type": "code",
   "execution_count": 25,
   "metadata": {},
   "outputs": [],
   "source": [
    "def create_NN_model(train_data):\n",
    "    input_dim = train_data.shape[1]\n",
    "    print(f\"Variables de entrada: {input_dim}\")\n",
    "\n",
    "    new_model = tf.keras.Sequential([\n",
    "        layers.Dense(16, input_dim=input_dim, activation='relu'),\n",
    "        layers.Dropout(0.2),\n",
    "        layers.Dense(32, activation='relu'),\n",
    "        layers.Dense(32, activation='relu'),\n",
    "        layers.Dense(1, activation=\"sigmoid\")\n",
    "    ])\n",
    "\n",
    "    new_model.compile(\n",
    "        loss=losses.BinaryCrossentropy(from_logits=True),  # Ya que se trata de un problema de clasificacion binario\n",
    "        optimizer='adam',\n",
    "        metrics=tf.metrics.BinaryAccuracy(threshold=0.5))\n",
    "\n",
    "    return new_model"
   ]
  },
  {
   "cell_type": "code",
   "execution_count": 26,
   "metadata": {},
   "outputs": [
    {
     "name": "stdout",
     "output_type": "stream",
     "text": [
      "Variables de entrada: 30\n",
      "Model: \"sequential\"\n",
      "_________________________________________________________________\n",
      "Layer (type)                 Output Shape              Param #   \n",
      "=================================================================\n",
      "dense (Dense)                (None, 16)                496       \n",
      "_________________________________________________________________\n",
      "dropout (Dropout)            (None, 16)                0         \n",
      "_________________________________________________________________\n",
      "dense_1 (Dense)              (None, 32)                544       \n",
      "_________________________________________________________________\n",
      "dense_2 (Dense)              (None, 32)                1056      \n",
      "_________________________________________________________________\n",
      "dense_3 (Dense)              (None, 1)                 33        \n",
      "=================================================================\n",
      "Total params: 2,129\n",
      "Trainable params: 2,129\n",
      "Non-trainable params: 0\n",
      "_________________________________________________________________\n"
     ]
    }
   ],
   "source": [
    "nn_model = create_NN_model(X_train)\n",
    "nn_model.summary()"
   ]
  },
  {
   "cell_type": "code",
   "execution_count": 27,
   "metadata": {},
   "outputs": [
    {
     "name": "stdout",
     "output_type": "stream",
     "text": [
      "Epoch 1/5\n",
      "6231/6231 [==============================] - 9s 1ms/step - loss: 0.6950 - binary_accuracy: 0.9966 - val_loss: 0.6932 - val_binary_accuracy: 0.9983\n",
      "Epoch 2/5\n",
      "6231/6231 [==============================] - 8s 1ms/step - loss: 0.6931 - binary_accuracy: 0.9983 - val_loss: 0.6932 - val_binary_accuracy: 0.9983\n",
      "Epoch 3/5\n",
      "6231/6231 [==============================] - 8s 1ms/step - loss: 0.6931 - binary_accuracy: 0.9983 - val_loss: 0.6932 - val_binary_accuracy: 0.9983\n",
      "Epoch 4/5\n",
      "6231/6231 [==============================] - 7s 1ms/step - loss: 0.6931 - binary_accuracy: 0.9983 - val_loss: 0.6932 - val_binary_accuracy: 0.9983\n",
      "Epoch 5/5\n",
      "6231/6231 [==============================] - 7s 1ms/step - loss: 0.6931 - binary_accuracy: 0.9983 - val_loss: 0.6932 - val_binary_accuracy: 0.9983\n"
     ]
    }
   ],
   "source": [
    "history = nn_model.fit(x=X_train, y=y_train, validation_data=(X_val, y_val), epochs=5)"
   ]
  },
  {
   "cell_type": "code",
   "execution_count": 28,
   "metadata": {},
   "outputs": [
    {
     "name": "stdout",
     "output_type": "stream",
     "text": [
      "1336/1336 [==============================] - 1s 607us/step - loss: 0.6932 - binary_accuracy: 0.9983\n",
      "0.6931594610214233 0.9982678890228271\n"
     ]
    }
   ],
   "source": [
    "loss, accuracy = nn_model.evaluate(X_test, y_test)\n",
    "print(loss, accuracy)"
   ]
  },
  {
   "cell_type": "code",
   "execution_count": 29,
   "metadata": {},
   "outputs": [
    {
     "name": "stdout",
     "output_type": "stream",
     "text": [
      "              precision    recall  f1-score   support\n",
      "\n",
      "   No fraude       1.00      1.00      1.00     42648\n",
      "      Fraude       0.00      0.00      0.00        74\n",
      "\n",
      "    accuracy                           1.00     42722\n",
      "   macro avg       0.50      0.50      0.50     42722\n",
      "weighted avg       1.00      1.00      1.00     42722\n",
      "\n"
     ]
    },
    {
     "data": {
      "text/plain": [
       "array([[42648,     0],\n",
       "       [   74,     0]])"
      ]
     },
     "execution_count": 29,
     "metadata": {},
     "output_type": "execute_result"
    }
   ],
   "source": [
    "y_pred = nn_model.predict(X_test)\n",
    "y_pred = np.round(y_pred)  # Class 0: <= 0.5 | Class 1: > 0.5\n",
    "\n",
    "print(classification_report(y_test, y_pred, target_names=[\"No fraude\", \"Fraude\"]))\n",
    "confusion_matrix(y_test, y_pred)"
   ]
  },
  {
   "cell_type": "markdown",
   "metadata": {},
   "source": [
    "Si nos fijamos únicamente en el valor de la \"*accuracy*\" podríamos pensar que nuestro modelo tiene un muy buen rendimiendo. Sin embargo, como podemos ver en el \"*classification report*\" y la \"*confusion matrix*\", estos resultados son engañosos.\n",
    "\n",
    "Debido a que la clase 0 (\"No fraude\") está sobrerrepresentada en nuestra muestra, es decir, las clases no están balanceadas, el modelo ha aprendido a predecir cualquier operación como \"No fraude\" obteniendo así una \"*accuracy*\" del 99.83%. Por lo tanto, este modelo no soluciona el problema ya que no sirve para encontrar las operaciones fraudulentas que es, en realidad, nuestro objetivo."
   ]
  },
  {
   "cell_type": "code",
   "execution_count": 30,
   "metadata": {},
   "outputs": [
    {
     "name": "stdout",
     "output_type": "stream",
     "text": [
      "Variables de entrada: 8\n",
      "Epoch 1/5\n",
      "6231/6231 [==============================] - 7s 1ms/step - loss: 0.6947 - binary_accuracy: 0.9979 - val_loss: 0.6932 - val_binary_accuracy: 0.9983\n",
      "Epoch 2/5\n",
      "6231/6231 [==============================] - 7s 1ms/step - loss: 0.6931 - binary_accuracy: 0.9983 - val_loss: 0.6932 - val_binary_accuracy: 0.9983\n",
      "Epoch 3/5\n",
      "6231/6231 [==============================] - 7s 1ms/step - loss: 0.6931 - binary_accuracy: 0.9983 - val_loss: 0.6932 - val_binary_accuracy: 0.9983\n",
      "Epoch 4/5\n",
      "6231/6231 [==============================] - 7s 1ms/step - loss: 0.6931 - binary_accuracy: 0.9983 - val_loss: 0.6932 - val_binary_accuracy: 0.9983\n",
      "Epoch 5/5\n",
      "6231/6231 [==============================] - 7s 1ms/step - loss: 0.6931 - binary_accuracy: 0.9983 - val_loss: 0.6932 - val_binary_accuracy: 0.9983\n",
      "1336/1336 [==============================] - 1s 641us/step - loss: 0.6932 - binary_accuracy: 0.9983\n",
      "0.6931594610214233 0.9982678890228271\n",
      "              precision    recall  f1-score   support\n",
      "\n",
      "   No fraude       1.00      1.00      1.00     42648\n",
      "      Fraude       0.00      0.00      0.00        74\n",
      "\n",
      "    accuracy                           1.00     42722\n",
      "   macro avg       0.50      0.50      0.50     42722\n",
      "weighted avg       1.00      1.00      1.00     42722\n",
      "\n"
     ]
    },
    {
     "data": {
      "text/plain": [
       "array([[42648,     0],\n",
       "       [   74,     0]])"
      ]
     },
     "execution_count": 30,
     "metadata": {},
     "output_type": "execute_result"
    }
   ],
   "source": [
    "X_train, X_aux, y_train, y_aux = train_test_split(input_data_corr, target_corr, stratify=target_corr, test_size=0.3)\n",
    "X_val, X_test, y_val, y_test = train_test_split(X_aux, y_aux, stratify=y_aux, test_size=0.5)\n",
    "\n",
    "nn_model = create_NN_model(X_train)\n",
    "\n",
    "history = nn_model.fit(x=X_train, y=y_train, validation_data=(X_val, y_val), epochs=5)\n",
    "loss, accuracy = nn_model.evaluate(X_test, y_test)\n",
    "print(loss, accuracy)\n",
    "\n",
    "y_pred = nn_model.predict(X_test)\n",
    "y_pred = np.round(y_pred)  # Class 0: <= 0.5 | Class 1: > 0.5\n",
    "\n",
    "print(classification_report(y_test, y_pred, target_names=[\"No fraude\", \"Fraude\"]))\n",
    "confusion_matrix(y_test, y_pred)"
   ]
  },
  {
   "cell_type": "markdown",
   "metadata": {},
   "source": [
    "Vemos como con el segundo DataFrame (el que sólo tiene las variable más correlacionadas con la clase) ocurre exactamente lo mismo."
   ]
  },
  {
   "cell_type": "markdown",
   "metadata": {},
   "source": [
    "![green-divider](https://user-images.githubusercontent.com/7065401/52071924-c003ad80-2562-11e9-8297-1c6595f8a7ff.png)\n",
    "\n",
    "## Logistic regression\n",
    "\n",
    "En este aparatado pruebo el algoritmo de regresión logística, un método de ML muy usado en la predicción de clases binarias, como es nuestro caso. Este método proporciona un resultado discreto a partir de la función *sigmoid*.\n",
    "\n",
    "Sabiendo que el valor de la *accuracy* no es muy fiable para este problema, nos centraremos en el \"informe de clasificación\" y en la \"matriz de confusión\" para evaluar el rendimiento del modelo.\n",
    "\n",
    "El informe de clasificación contiene algunas métricas interesantes como la *precision*, que representa la proporción de casos clasificados como positivos que realmente lo son, el *recall* (exhaustividad), que representa la cantidad/fracción de los casos positivos que el modelo es capaz de clasificar correctamente, y el *f1-score*, que combina las dos medidas anteriores en un solo valor asumiendo que tienen la misma importancia.\n",
    "\n",
    "Por otro lado, la matriz de confusión nos permite ver cómo se han clasificado las operaciones de cada clase (\"No fraude\" y \"Fraude\"). De aquí podemos extraer información como el número de *verdaderos positivos* (TP), *falsos positivos* (FP), *verdaderos negativos* (TN) y *falsos negativos* (FN), los cuales sirven para calcular la *precision* y el *recall*."
   ]
  },
  {
   "cell_type": "code",
   "execution_count": 17,
   "metadata": {},
   "outputs": [],
   "source": [
    "X_train, X_test, y_train, y_test = train_test_split(input_data, target, test_size=0.2, random_state=1, stratify=target)"
   ]
  },
  {
   "cell_type": "code",
   "execution_count": 32,
   "metadata": {},
   "outputs": [
    {
     "name": "stdout",
     "output_type": "stream",
     "text": [
      "              precision    recall  f1-score   support\n",
      "\n",
      "   No fraude       1.00      1.00      1.00     56864\n",
      "      Fraude       0.86      0.70      0.78        98\n",
      "\n",
      "    accuracy                           1.00     56962\n",
      "   macro avg       0.93      0.85      0.89     56962\n",
      "weighted avg       1.00      1.00      1.00     56962\n",
      "\n"
     ]
    },
    {
     "data": {
      "text/plain": [
       "array([[56853,    11],\n",
       "       [   29,    69]])"
      ]
     },
     "execution_count": 32,
     "metadata": {},
     "output_type": "execute_result"
    }
   ],
   "source": [
    "lg_model = LogisticRegression().fit(X_train, y_train)\n",
    "y_pred = lg_model.predict(X_test)\n",
    "\n",
    "print(classification_report(y_test, y_pred, target_names=[\"No fraude\", \"Fraude\"]))\n",
    "confusion_matrix(y_test, y_pred)"
   ]
  },
  {
   "cell_type": "markdown",
   "metadata": {},
   "source": [
    "Después de ejecutar el modelo observamos como ahora no todas las operaciones se clasifican como \"No fraude\", y los valores de la *precision* y el *recall* para la clase \"Fraude\" son 0.86 y 0.70 respectivamente.\n",
    "\n",
    "**Para este problema es más importante el _recall_ que la _precision_**, ya que es mejor detectar la mayoría de las operaciones fraudulentas, aunque esto conlleve aumentar los falsos positivos, que tener una gran precisión en nuestras prediciones a costa de saltarnos una gran parte de las operaciones fraudulentas."
   ]
  },
  {
   "cell_type": "code",
   "execution_count": 18,
   "metadata": {},
   "outputs": [],
   "source": [
    "X_train_corr, X_test_corr, y_train_corr, y_test_corr = train_test_split(input_data_corr, target_corr, test_size=0.2, random_state=1, stratify=target_corr)"
   ]
  },
  {
   "cell_type": "code",
   "execution_count": 34,
   "metadata": {},
   "outputs": [
    {
     "name": "stdout",
     "output_type": "stream",
     "text": [
      "              precision    recall  f1-score   support\n",
      "\n",
      "   No fraude       1.00      1.00      1.00     56864\n",
      "      Fraude       0.91      0.64      0.75        98\n",
      "\n",
      "    accuracy                           1.00     56962\n",
      "   macro avg       0.96      0.82      0.88     56962\n",
      "weighted avg       1.00      1.00      1.00     56962\n",
      "\n"
     ]
    },
    {
     "data": {
      "text/plain": [
       "array([[56858,     6],\n",
       "       [   35,    63]])"
      ]
     },
     "execution_count": 34,
     "metadata": {},
     "output_type": "execute_result"
    }
   ],
   "source": [
    "lg_model = LogisticRegression().fit(X_train_corr, y_train_corr)\n",
    "y_pred_corr = lg_model.predict(X_test_corr)\n",
    "\n",
    "print(classification_report(y_test_corr, y_pred_corr, target_names=[\"No fraude\", \"Fraude\"]))\n",
    "confusion_matrix(y_test_corr, y_pred_corr)"
   ]
  },
  {
   "cell_type": "markdown",
   "metadata": {},
   "source": [
    "Arriba vemos como si utilizamos el segundo DataFrame obtenemos un comportamiento similar."
   ]
  },
  {
   "cell_type": "markdown",
   "metadata": {},
   "source": [
    "### Estrategia: Penalización\n",
    "\n",
    "Una primera estrategia para intentar ajustar el rendimiento de nuestro modelo a nuestro gusto puede ser la aplicación de una penalización o coste adicional por los errores de clasificación en la clase minoritaria durante la fase de entrenamiento. Esto puede hacer que el modelo ponga más atención a la clase menos representada.\n",
    "\n",
    "Según la documentación de Scikit-learn, el modo \"balanceado\" usa los valores de 'y' para ajustar automaticamente los parámetros (weights) del modelo de manera inversamente proporcional a la frecuencia de clases en los datos de entrada."
   ]
  },
  {
   "cell_type": "code",
   "execution_count": 35,
   "metadata": {},
   "outputs": [
    {
     "name": "stdout",
     "output_type": "stream",
     "text": [
      "              precision    recall  f1-score   support\n",
      "\n",
      "   No fraude       1.00      0.98      0.99     56864\n",
      "      Fraude       0.06      0.93      0.11        98\n",
      "\n",
      "    accuracy                           0.98     56962\n",
      "   macro avg       0.53      0.95      0.55     56962\n",
      "weighted avg       1.00      0.98      0.99     56962\n",
      "\n"
     ]
    },
    {
     "data": {
      "text/plain": [
       "array([[55455,  1409],\n",
       "       [    7,    91]])"
      ]
     },
     "execution_count": 35,
     "metadata": {},
     "output_type": "execute_result"
    }
   ],
   "source": [
    "lg_model_balanced = LogisticRegression(class_weight='balanced').fit(X_train, y_train)\n",
    "y_pred = lg_model_balanced.predict(X_test)\n",
    "\n",
    "print(classification_report(y_test, y_pred, target_names=[\"No fraude\", \"Fraude\"]))\n",
    "confusion_matrix(y_test, y_pred)"
   ]
  },
  {
   "cell_type": "markdown",
   "metadata": {},
   "source": [
    "En este caso, observamos como el valor del *recall* para la clase \"Fraude\" ha aumentado hasta el 0.93, ya que de un total de 98 operaciones fraudulentas sólo 7 han sido falsos negativos. Como aspecto negativo, un \"pequeño\" porcentaje (~2.5%) de las operaciones no fraudulentas han sido clasificadas como \"Fraude\", disminuyendo en gran medida la precisión de la clase \"Fraude\". Sin embargo, como ya hemos dicho antes, esta situación es más conveniente para este problema."
   ]
  },
  {
   "cell_type": "code",
   "execution_count": 36,
   "metadata": {},
   "outputs": [
    {
     "name": "stdout",
     "output_type": "stream",
     "text": [
      "              precision    recall  f1-score   support\n",
      "\n",
      "   No fraude       1.00      0.98      0.99     56864\n",
      "      Fraude       0.06      0.91      0.11        98\n",
      "\n",
      "    accuracy                           0.98     56962\n",
      "   macro avg       0.53      0.94      0.55     56962\n",
      "weighted avg       1.00      0.98      0.99     56962\n",
      "\n"
     ]
    },
    {
     "data": {
      "text/plain": [
       "array([[55485,  1379],\n",
       "       [    9,    89]])"
      ]
     },
     "execution_count": 36,
     "metadata": {},
     "output_type": "execute_result"
    }
   ],
   "source": [
    "lg_model_balanced = LogisticRegression(class_weight='balanced').fit(X_train_corr, y_train_corr)\n",
    "y_pred_corr = lg_model_balanced.predict(X_test_corr)\n",
    "\n",
    "print(classification_report(y_test_corr, y_pred_corr, target_names=[\"No fraude\", \"Fraude\"]))\n",
    "confusion_matrix(y_test_corr, y_pred_corr)"
   ]
  },
  {
   "cell_type": "markdown",
   "metadata": {},
   "source": [
    "De nuevo, utilizando el segundo DataFrame el comportamiento es similar a cuando utilizamos el primero."
   ]
  },
  {
   "cell_type": "markdown",
   "metadata": {},
   "source": [
    "### Estrategia:  Modificar el dataset para tener las clases más balanceadas\n",
    "\n",
    "Podemos probar dos estrategias diferentes: una sería añadir copias de operaciones (registros) de la clase menos representada (*over-sampling*) y la otra, eliminar operaciones de la clase sobrerepresentada (*under-sampling*).\n",
    "\n",
    "En relación a la primera, hay que tener en cuenta que esta estrategia puede incrementar las posibilidades de sufrir *overfitting* ya que estamos rellenando el *dataset* con duplicados, lo que podría resultar en una menor capacidad de generalización del modelo. Vamos a ver los resultados que obtenemos si aplicamos **_over-sampling_** en el primer DataFrame."
   ]
  },
  {
   "cell_type": "code",
   "execution_count": 19,
   "metadata": {},
   "outputs": [
    {
     "name": "stdout",
     "output_type": "stream",
     "text": [
      "0    227451\n",
      "1       394\n",
      "Name: Class, dtype: int64\n",
      "0    227451\n",
      "1    113725\n",
      "Name: Class, dtype: int64\n"
     ]
    }
   ],
   "source": [
    "X_ros, y_ros = RandomOverSampler(sampling_strategy=0.5).fit_resample(X_train, y_train)\n",
    "print(y_train.value_counts())\n",
    "print(y_ros.value_counts())"
   ]
  },
  {
   "cell_type": "code",
   "execution_count": 38,
   "metadata": {},
   "outputs": [
    {
     "name": "stdout",
     "output_type": "stream",
     "text": [
      "              precision    recall  f1-score   support\n",
      "\n",
      "   No fraude       1.00      0.99      0.99     56864\n",
      "      Fraude       0.11      0.92      0.20        98\n",
      "\n",
      "    accuracy                           0.99     56962\n",
      "   macro avg       0.56      0.95      0.60     56962\n",
      "weighted avg       1.00      0.99      0.99     56962\n",
      "\n"
     ]
    },
    {
     "data": {
      "text/plain": [
       "array([[56166,   698],\n",
       "       [    8,    90]])"
      ]
     },
     "execution_count": 38,
     "metadata": {},
     "output_type": "execute_result"
    }
   ],
   "source": [
    "lg_model_ros = LogisticRegression().fit(X_ros, y_ros)\n",
    "y_pred = lg_model_ros.predict(X_test)\n",
    "\n",
    "print(classification_report(y_test, y_pred, target_names=[\"No fraude\", \"Fraude\"]))\n",
    "confusion_matrix(y_test, y_pred)"
   ]
  },
  {
   "cell_type": "markdown",
   "metadata": {},
   "source": [
    "Con esta estrategia podemos ver como el *recall* mantiene aproximadamente el mismo valor que con la estrategia anterior, aunque en este caso la precisión es mayor, lo cual supone una ligera mejoría.\n",
    "\n",
    "Después de realizar algunas pruebas con distintos valores he notado que al aumentar la proporción del número de operaciones fraudulentas en relación con las no fraudulentas (el parémetro \"*sampling_strategy*\"), el *recall* también aumenta mientras que la precisión disminuye, acercándose así al comportamiento obtenido con la estrategia de penalización. Lo mismo ocurre a la inversa.\n",
    "\n",
    "Vamos a probar ahora aplicando la técnica de **_under-sampling_** (también en el primer DataFrame)."
   ]
  },
  {
   "cell_type": "code",
   "execution_count": 20,
   "metadata": {},
   "outputs": [
    {
     "name": "stdout",
     "output_type": "stream",
     "text": [
      "0    227451\n",
      "1       394\n",
      "Name: Class, dtype: int64\n",
      "0    788\n",
      "1    394\n",
      "Name: Class, dtype: int64\n"
     ]
    }
   ],
   "source": [
    "X_rus, y_rus = RandomUnderSampler(sampling_strategy=0.5).fit_resample(X_train, y_train)\n",
    "print(y_train.value_counts())\n",
    "print(y_rus.value_counts())"
   ]
  },
  {
   "cell_type": "code",
   "execution_count": 40,
   "metadata": {},
   "outputs": [
    {
     "name": "stdout",
     "output_type": "stream",
     "text": [
      "              precision    recall  f1-score   support\n",
      "\n",
      "   No fraude       1.00      0.98      0.99     56864\n",
      "      Fraude       0.09      0.93      0.16        98\n",
      "\n",
      "    accuracy                           0.98     56962\n",
      "   macro avg       0.54      0.96      0.57     56962\n",
      "weighted avg       1.00      0.98      0.99     56962\n",
      "\n"
     ]
    },
    {
     "data": {
      "text/plain": [
       "array([[55892,   972],\n",
       "       [    7,    91]])"
      ]
     },
     "execution_count": 40,
     "metadata": {},
     "output_type": "execute_result"
    }
   ],
   "source": [
    "lg_model_rus = LogisticRegression().fit(X_rus, y_rus)\n",
    "y_pred = lg_model_rus.predict(X_test)\n",
    "\n",
    "print(classification_report(y_test, y_pred, target_names=[\"No fraude\", \"Fraude\"]))\n",
    "confusion_matrix(y_test, y_pred)"
   ]
  },
  {
   "cell_type": "markdown",
   "metadata": {},
   "source": [
    "Manteniendo la misma proporción de las clases que en la estrategia anterior, observamos como el *recall* se mantiene más o menos igual. Sin embargo, el número de falsos positivos para la clase \"Fraude\" ha pasado de 698 a 972 en comparación la técnica de *over-sampling*.\n",
    "\n",
    "Ahora, vamos a probar estas dos estrategias con el segundo DataFrame."
   ]
  },
  {
   "cell_type": "code",
   "execution_count": 41,
   "metadata": {},
   "outputs": [
    {
     "name": "stdout",
     "output_type": "stream",
     "text": [
      "              precision    recall  f1-score   support\n",
      "\n",
      "   No fraude       1.00      0.99      0.99     56864\n",
      "      Fraude       0.11      0.91      0.19        98\n",
      "\n",
      "    accuracy                           0.99     56962\n",
      "   macro avg       0.55      0.95      0.59     56962\n",
      "weighted avg       1.00      0.99      0.99     56962\n",
      "\n",
      "[[56136   728]\n",
      " [    9    89]]\n",
      "              precision    recall  f1-score   support\n",
      "\n",
      "   No fraude       1.00      0.99      0.99     56864\n",
      "      Fraude       0.12      0.91      0.22        98\n",
      "\n",
      "    accuracy                           0.99     56962\n",
      "   macro avg       0.56      0.95      0.61     56962\n",
      "weighted avg       1.00      0.99      0.99     56962\n",
      "\n",
      "[[56231   633]\n",
      " [    9    89]]\n"
     ]
    }
   ],
   "source": [
    "### OVER-SAMPLING ###\n",
    "\n",
    "X_ros_corr, y_ros_corr = RandomOverSampler(sampling_strategy=0.5).fit_resample(X_train_corr, y_train_corr)\n",
    "\n",
    "lg_model_ros = LogisticRegression().fit(X_ros_corr, y_ros_corr)\n",
    "y_pred_corr = lg_model_ros.predict(X_test_corr)\n",
    "\n",
    "print(classification_report(y_test_corr, y_pred_corr, target_names=[\"No fraude\", \"Fraude\"]))\n",
    "print(confusion_matrix(y_test_corr, y_pred_corr))\n",
    "\n",
    "### UNDER-SAMPLING ###\n",
    "\n",
    "X_rus_corr, y_rus_corr = RandomUnderSampler(sampling_strategy=0.5).fit_resample(X_train_corr, y_train_corr)\n",
    "\n",
    "lg_model_rus = LogisticRegression().fit(X_rus_corr, y_rus_corr)\n",
    "y_pred_corr = lg_model_rus.predict(X_test_corr)\n",
    "\n",
    "print(classification_report(y_test_corr, y_pred_corr, target_names=[\"No fraude\", \"Fraude\"]))\n",
    "print(confusion_matrix(y_test_corr, y_pred_corr))"
   ]
  },
  {
   "cell_type": "markdown",
   "metadata": {},
   "source": [
    "Viendo como el segundo DataFrame no afecta significativamente al rendimiento del modelo a partir de aquí trabajaré únicamente con el primero, que contiene todas las variables después de escalar la columna 'Time' y 'Amount'.\n",
    "\n",
    "A continuación pruebo otros algoritmos de aprendizaje supervisado con el objetivo de ver si alguno de ellos mejora el rendimiento del algoritmo de regresión logística."
   ]
  },
  {
   "cell_type": "markdown",
   "metadata": {},
   "source": [
    "![green-divider](https://user-images.githubusercontent.com/7065401/52071924-c003ad80-2562-11e9-8297-1c6595f8a7ff.png)\n",
    "\n",
    "## Decision tree\n",
    "\n",
    "Este algoritmo consiste en representar un modelo en forma de árbol compuesto por nodos y hojas."
   ]
  },
  {
   "cell_type": "code",
   "execution_count": 42,
   "metadata": {},
   "outputs": [
    {
     "name": "stdout",
     "output_type": "stream",
     "text": [
      "              precision    recall  f1-score   support\n",
      "\n",
      "   No fraude       1.00      1.00      1.00     56864\n",
      "      Fraude       0.72      0.81      0.76        98\n",
      "\n",
      "    accuracy                           1.00     56962\n",
      "   macro avg       0.86      0.90      0.88     56962\n",
      "weighted avg       1.00      1.00      1.00     56962\n",
      "\n"
     ]
    },
    {
     "data": {
      "text/plain": [
       "array([[56833,    31],\n",
       "       [   19,    79]])"
      ]
     },
     "execution_count": 42,
     "metadata": {},
     "output_type": "execute_result"
    }
   ],
   "source": [
    "dt_model = DecisionTreeClassifier(random_state=1).fit(X_train, y_train)\n",
    "y_pred = dt_model.predict(X_test)\n",
    "\n",
    "print(classification_report(y_test, y_pred, target_names=[\"No fraude\", \"Fraude\"]))\n",
    "confusion_matrix(y_test, y_pred)"
   ]
  },
  {
   "cell_type": "markdown",
   "metadata": {},
   "source": [
    "#### Penalización"
   ]
  },
  {
   "cell_type": "code",
   "execution_count": 43,
   "metadata": {},
   "outputs": [
    {
     "name": "stdout",
     "output_type": "stream",
     "text": [
      "              precision    recall  f1-score   support\n",
      "\n",
      "   No fraude       1.00      1.00      1.00     56864\n",
      "      Fraude       0.77      0.84      0.80        98\n",
      "\n",
      "    accuracy                           1.00     56962\n",
      "   macro avg       0.89      0.92      0.90     56962\n",
      "weighted avg       1.00      1.00      1.00     56962\n",
      "\n"
     ]
    },
    {
     "data": {
      "text/plain": [
       "array([[56840,    24],\n",
       "       [   16,    82]])"
      ]
     },
     "execution_count": 43,
     "metadata": {},
     "output_type": "execute_result"
    }
   ],
   "source": [
    "dt_model = DecisionTreeClassifier(random_state=1, class_weight='balanced').fit(X_train, y_train)\n",
    "y_pred = dt_model.predict(X_test)\n",
    "\n",
    "print(classification_report(y_test, y_pred, target_names=[\"No fraude\", \"Fraude\"]))\n",
    "confusion_matrix(y_test, y_pred)"
   ]
  },
  {
   "cell_type": "markdown",
   "metadata": {},
   "source": [
    "#### Over-sampling"
   ]
  },
  {
   "cell_type": "code",
   "execution_count": 44,
   "metadata": {},
   "outputs": [
    {
     "name": "stdout",
     "output_type": "stream",
     "text": [
      "              precision    recall  f1-score   support\n",
      "\n",
      "   No fraude       1.00      1.00      1.00     56864\n",
      "      Fraude       0.73      0.87      0.79        98\n",
      "\n",
      "    accuracy                           1.00     56962\n",
      "   macro avg       0.87      0.93      0.90     56962\n",
      "weighted avg       1.00      1.00      1.00     56962\n",
      "\n"
     ]
    },
    {
     "data": {
      "text/plain": [
       "array([[56833,    31],\n",
       "       [   13,    85]])"
      ]
     },
     "execution_count": 44,
     "metadata": {},
     "output_type": "execute_result"
    }
   ],
   "source": [
    "dt_model = DecisionTreeClassifier(random_state=1).fit(X_ros, y_ros)\n",
    "y_pred = dt_model.predict(X_test)\n",
    "\n",
    "print(classification_report(y_test, y_pred, target_names=[\"No fraude\", \"Fraude\"]))\n",
    "confusion_matrix(y_test, y_pred)"
   ]
  },
  {
   "cell_type": "markdown",
   "metadata": {},
   "source": [
    "#### Under-sampling"
   ]
  },
  {
   "cell_type": "code",
   "execution_count": 45,
   "metadata": {},
   "outputs": [
    {
     "name": "stdout",
     "output_type": "stream",
     "text": [
      "              precision    recall  f1-score   support\n",
      "\n",
      "   No fraude       1.00      0.94      0.97     56864\n",
      "      Fraude       0.03      0.93      0.05        98\n",
      "\n",
      "    accuracy                           0.94     56962\n",
      "   macro avg       0.51      0.93      0.51     56962\n",
      "weighted avg       1.00      0.94      0.97     56962\n",
      "\n"
     ]
    },
    {
     "data": {
      "text/plain": [
       "array([[53371,  3493],\n",
       "       [    7,    91]])"
      ]
     },
     "execution_count": 45,
     "metadata": {},
     "output_type": "execute_result"
    }
   ],
   "source": [
    "dt_model = DecisionTreeClassifier(random_state=1).fit(X_rus, y_rus)\n",
    "y_pred = dt_model.predict(X_test)\n",
    "\n",
    "print(classification_report(y_test, y_pred, target_names=[\"No fraude\", \"Fraude\"]))\n",
    "confusion_matrix(y_test, y_pred)"
   ]
  },
  {
   "cell_type": "markdown",
   "metadata": {},
   "source": [
    "Observando los resultados obtenidos con este algoritmos podemos concluir lo siguiente:\n",
    "- Comparando el algoritmo de árboles de decisión con el de regresión logística, sin aplicar ninguna modificación a los datasets, el primero parece comportarse un poco mejor.\n",
    "- Las estrategias de penalización y *over-sampling* en este algoritmo resultan en un comportamiento similar al primer caso en el que aplicamos el algoritmo tal cual.\n",
    "- Sólo la estrategia de *under-sampling* produce unos resultados diferentes al primer caso, aumentando el *recall* hasta 0.93 y reduciendo en gran medida la *precision* a un 0.03.\n",
    "- Comparando estos resultados con los obtenidos con regresión logística no parece haber una mejora clara."
   ]
  },
  {
   "cell_type": "markdown",
   "metadata": {},
   "source": [
    "![green-divider](https://user-images.githubusercontent.com/7065401/52071924-c003ad80-2562-11e9-8297-1c6595f8a7ff.png)\n",
    "\n",
    "## Random forest\n",
    "\n",
    "Este algoritmo crea un \"bosque\" a partir de múltiples árboles de decisión. Para clasificar una nueva observación cada *decision tree* devuelve una predicción (una clase) y luego el algoritmo elige la clase con mayor número de votos de *decision trees*. Por lo general, cuantos más árboles más robusta será la predicción."
   ]
  },
  {
   "cell_type": "code",
   "execution_count": 46,
   "metadata": {},
   "outputs": [
    {
     "name": "stdout",
     "output_type": "stream",
     "text": [
      "              precision    recall  f1-score   support\n",
      "\n",
      "   No fraude       1.00      1.00      1.00     56864\n",
      "      Fraude       0.92      0.84      0.88        98\n",
      "\n",
      "    accuracy                           1.00     56962\n",
      "   macro avg       0.96      0.92      0.94     56962\n",
      "weighted avg       1.00      1.00      1.00     56962\n",
      "\n"
     ]
    },
    {
     "data": {
      "text/plain": [
       "array([[56857,     7],\n",
       "       [   16,    82]])"
      ]
     },
     "execution_count": 46,
     "metadata": {},
     "output_type": "execute_result"
    }
   ],
   "source": [
    "rf_model = RandomForestClassifier(n_estimators=50, random_state=1).fit(X_train, y_train)  # n_estimators: The number of trees in the forest\n",
    "y_pred = rf_model.predict(X_test)\n",
    "\n",
    "print(classification_report(y_test, y_pred, target_names=[\"No fraude\", \"Fraude\"]))\n",
    "confusion_matrix(y_test, y_pred)"
   ]
  },
  {
   "cell_type": "markdown",
   "metadata": {},
   "source": [
    "#### Penalización"
   ]
  },
  {
   "cell_type": "code",
   "execution_count": 47,
   "metadata": {},
   "outputs": [
    {
     "name": "stdout",
     "output_type": "stream",
     "text": [
      "              precision    recall  f1-score   support\n",
      "\n",
      "   No fraude       1.00      1.00      1.00     56864\n",
      "      Fraude       0.92      0.84      0.88        98\n",
      "\n",
      "    accuracy                           1.00     56962\n",
      "   macro avg       0.96      0.92      0.94     56962\n",
      "weighted avg       1.00      1.00      1.00     56962\n",
      "\n"
     ]
    },
    {
     "data": {
      "text/plain": [
       "array([[56857,     7],\n",
       "       [   16,    82]])"
      ]
     },
     "execution_count": 47,
     "metadata": {},
     "output_type": "execute_result"
    }
   ],
   "source": [
    "rf_model = RandomForestClassifier(n_estimators=50, random_state=1, class_weight='balanced').fit(X_train, y_train)\n",
    "y_pred = rf_model.predict(X_test)\n",
    "\n",
    "print(classification_report(y_test, y_pred, target_names=[\"No fraude\", \"Fraude\"]))\n",
    "confusion_matrix(y_test, y_pred)"
   ]
  },
  {
   "cell_type": "markdown",
   "metadata": {},
   "source": [
    "#### Over-sampling"
   ]
  },
  {
   "cell_type": "code",
   "execution_count": 48,
   "metadata": {},
   "outputs": [
    {
     "name": "stdout",
     "output_type": "stream",
     "text": [
      "              precision    recall  f1-score   support\n",
      "\n",
      "   No fraude       1.00      1.00      1.00     56864\n",
      "      Fraude       0.92      0.85      0.88        98\n",
      "\n",
      "    accuracy                           1.00     56962\n",
      "   macro avg       0.96      0.92      0.94     56962\n",
      "weighted avg       1.00      1.00      1.00     56962\n",
      "\n"
     ]
    },
    {
     "data": {
      "text/plain": [
       "array([[56857,     7],\n",
       "       [   15,    83]])"
      ]
     },
     "execution_count": 48,
     "metadata": {},
     "output_type": "execute_result"
    }
   ],
   "source": [
    "rf_model = RandomForestClassifier(n_estimators=50, random_state=1).fit(X_ros, y_ros)\n",
    "y_pred = rf_model.predict(X_test)\n",
    "\n",
    "print(classification_report(y_test, y_pred, target_names=[\"No fraude\", \"Fraude\"]))\n",
    "confusion_matrix(y_test, y_pred)"
   ]
  },
  {
   "cell_type": "markdown",
   "metadata": {},
   "source": [
    "#### Under-sampling"
   ]
  },
  {
   "cell_type": "code",
   "execution_count": 49,
   "metadata": {},
   "outputs": [
    {
     "name": "stdout",
     "output_type": "stream",
     "text": [
      "              precision    recall  f1-score   support\n",
      "\n",
      "   No fraude       1.00      0.99      1.00     56864\n",
      "      Fraude       0.14      0.92      0.24        98\n",
      "\n",
      "    accuracy                           0.99     56962\n",
      "   macro avg       0.57      0.95      0.62     56962\n",
      "weighted avg       1.00      0.99      0.99     56962\n",
      "\n"
     ]
    },
    {
     "data": {
      "text/plain": [
       "array([[56311,   553],\n",
       "       [    8,    90]])"
      ]
     },
     "execution_count": 49,
     "metadata": {},
     "output_type": "execute_result"
    }
   ],
   "source": [
    "rf_model = RandomForestClassifier(n_estimators=50, random_state=1).fit(X_rus, y_rus)\n",
    "y_pred = rf_model.predict(X_test)\n",
    "\n",
    "print(classification_report(y_test, y_pred, target_names=[\"No fraude\", \"Fraude\"]))\n",
    "confusion_matrix(y_test, y_pred)"
   ]
  },
  {
   "cell_type": "markdown",
   "metadata": {},
   "source": [
    "Después de ver los resultados obtenidos con este algoritmo se puede afirmar lo siguiente:\n",
    "- El algoritmo de *random forest* mejora en todos los casos al anterior algoritmo (*decision tree*), lo cual tiene lógica al tratarse de un algoritmo más sofisticado que basa sus predicciones en varios árboles de decisión.\n",
    "- Los resultados obtenidos con la estrategia de *under-sampling* en este algoritmo (precision: 0.14, recall: 0.92) se asemejan, e incluso superan ligeramente, a los obtenidos con la estrategia de *over-sampling* en el algoritmo de regresión logística (precision: 0.11, recall: 0.92)."
   ]
  },
  {
   "cell_type": "markdown",
   "metadata": {},
   "source": [
    "![green-divider](https://user-images.githubusercontent.com/7065401/52071924-c003ad80-2562-11e9-8297-1c6595f8a7ff.png)\n",
    "\n",
    "## Support Vector Machine\n",
    "\n",
    "Este algoritmo consiste en encontrar el hiperplano que mejor separa dos clases. El objetivo es maximizar la distancia (margen) entre el hiperplano/línea y los puntos más cercanos a ambos lados. Algunas de sus ventajas que podemos aprovechar para nuestro problema son: su efectividad en espacios con muchas dimensiones (variables) o la posibilidad de trabajar con problemas desbalanceados."
   ]
  },
  {
   "cell_type": "code",
   "execution_count": 50,
   "metadata": {},
   "outputs": [
    {
     "name": "stdout",
     "output_type": "stream",
     "text": [
      "              precision    recall  f1-score   support\n",
      "\n",
      "   No fraude       1.00      1.00      1.00     56864\n",
      "      Fraude       0.92      0.81      0.86        98\n",
      "\n",
      "    accuracy                           1.00     56962\n",
      "   macro avg       0.96      0.90      0.93     56962\n",
      "weighted avg       1.00      1.00      1.00     56962\n",
      "\n"
     ]
    },
    {
     "data": {
      "text/plain": [
       "array([[56857,     7],\n",
       "       [   19,    79]])"
      ]
     },
     "execution_count": 50,
     "metadata": {},
     "output_type": "execute_result"
    }
   ],
   "source": [
    "svm_model = SVC(random_state=1).fit(X_train, y_train)\n",
    "y_pred = svm_model.predict(X_test)\n",
    "\n",
    "print(classification_report(y_test, y_pred, target_names=[\"No fraude\", \"Fraude\"]))\n",
    "confusion_matrix(y_test, y_pred)"
   ]
  },
  {
   "cell_type": "markdown",
   "metadata": {},
   "source": [
    "#### Penalización"
   ]
  },
  {
   "cell_type": "code",
   "execution_count": 51,
   "metadata": {},
   "outputs": [
    {
     "name": "stdout",
     "output_type": "stream",
     "text": [
      "              precision    recall  f1-score   support\n",
      "\n",
      "   No fraude       1.00      1.00      1.00     56864\n",
      "      Fraude       0.30      0.85      0.45        98\n",
      "\n",
      "    accuracy                           1.00     56962\n",
      "   macro avg       0.65      0.92      0.72     56962\n",
      "weighted avg       1.00      1.00      1.00     56962\n",
      "\n"
     ]
    },
    {
     "data": {
      "text/plain": [
       "array([[56674,   190],\n",
       "       [   15,    83]])"
      ]
     },
     "execution_count": 51,
     "metadata": {},
     "output_type": "execute_result"
    }
   ],
   "source": [
    "svm_model = SVC(random_state=1, class_weight='balanced').fit(X_train, y_train)\n",
    "y_pred = svm_model.predict(X_test)\n",
    "\n",
    "print(classification_report(y_test, y_pred, target_names=[\"No fraude\", \"Fraude\"]))\n",
    "confusion_matrix(y_test, y_pred)"
   ]
  },
  {
   "cell_type": "markdown",
   "metadata": {},
   "source": [
    "#### Over-sampling"
   ]
  },
  {
   "cell_type": "code",
   "execution_count": 21,
   "metadata": {},
   "outputs": [
    {
     "name": "stdout",
     "output_type": "stream",
     "text": [
      "              precision    recall  f1-score   support\n",
      "\n",
      "   No fraude       1.00      0.99      1.00     56864\n",
      "      Fraude       0.22      0.91      0.35        98\n",
      "\n",
      "    accuracy                           0.99     56962\n",
      "   macro avg       0.61      0.95      0.67     56962\n",
      "weighted avg       1.00      0.99      1.00     56962\n",
      "\n"
     ]
    },
    {
     "data": {
      "text/plain": [
       "array([[56546,   318],\n",
       "       [    9,    89]])"
      ]
     },
     "execution_count": 21,
     "metadata": {},
     "output_type": "execute_result"
    }
   ],
   "source": [
    "svm_model = SVC(random_state=1).fit(X_ros, y_ros)\n",
    "y_pred = svm_model.predict(X_test)\n",
    "\n",
    "print(classification_report(y_test, y_pred, target_names=[\"No fraude\", \"Fraude\"]))\n",
    "confusion_matrix(y_test, y_pred)"
   ]
  },
  {
   "cell_type": "markdown",
   "metadata": {},
   "source": [
    "#### Under-sampling"
   ]
  },
  {
   "cell_type": "code",
   "execution_count": 22,
   "metadata": {},
   "outputs": [
    {
     "name": "stdout",
     "output_type": "stream",
     "text": [
      "              precision    recall  f1-score   support\n",
      "\n",
      "   No fraude       1.00      0.99      1.00     56864\n",
      "      Fraude       0.14      0.91      0.25        98\n",
      "\n",
      "    accuracy                           0.99     56962\n",
      "   macro avg       0.57      0.95      0.62     56962\n",
      "weighted avg       1.00      0.99      0.99     56962\n",
      "\n"
     ]
    },
    {
     "data": {
      "text/plain": [
       "array([[56329,   535],\n",
       "       [    9,    89]])"
      ]
     },
     "execution_count": 22,
     "metadata": {},
     "output_type": "execute_result"
    }
   ],
   "source": [
    "svm_model = SVC(random_state=1).fit(X_rus, y_rus)\n",
    "y_pred = svm_model.predict(X_test)\n",
    "\n",
    "print(classification_report(y_test, y_pred, target_names=[\"No fraude\", \"Fraude\"]))\n",
    "confusion_matrix(y_test, y_pred)"
   ]
  },
  {
   "cell_type": "markdown",
   "metadata": {},
   "source": [
    "Conclusiones finales después de ejecutar todos los algoritmos:\n",
    "- El algoritmo SVM consigue muy buenos resultados, similares a los obtenidos con regresión logística, e incluso los supera en algunos casos.\n",
    "- Los resultados obtenidos con la estrategia de *over-sampling* en este algoritmo (precision: 0.22, recall: 0.91) son los mejores hasta el momento entre todos los algoritmos, ya que conseguimos mantener una buena puntuación en *recall* (exhaustividad) y, al mismo tiempo, aumentar la *precision*.\n",
    "- En cuanto a las estrategias implementadas en este trabajo para tratar de suplir el problema de la clase no balanceada, la penalización no consigue generalmente tan buenos resultados como las otras dos técnicas. Además, parece que la estrategia de *over-sampling* funciona mejor en el algoritmo de regresión logística y SVM, mientras que en el caso del *decision tree* y el *random forest* la estrategia que mejores resultados produce es la de *under-sampling*."
   ]
  },
  {
   "cell_type": "markdown",
   "metadata": {},
   "source": [
    "![purple-divider](https://user-images.githubusercontent.com/7065401/52071927-c1cd7100-2562-11e9-908a-dde91ba14e59.png)\n",
    "\n",
    "## Clustering\n",
    "\n",
    "Otro enfoque que le podemos dar a la resolución de este problema es la aplicación de algoritmos de **aprendizaje no supervisado**. Este tipo de algoritmos tratan de obtener conocimientos únicamente a partir de los valores de entrada sin necesidad del resultado deseado.\n",
    "\n",
    "Para este apartado me he basado en el artículo del siguiente enlace: https://towardsdatascience.com/best-clustering-algorithms-for-anomaly-detection-d5b7412537c8. En esta página se presentan algunos algoritmos que podrían tener un mejor rendimiento aplicados a la detección de anomalias, como es nuestro caso. Nuestro dataset contiene una serie de operaciones de tarjetas de crédito entre las cuales sólo un 0.18% de ellas está catalogada como \"Fraude\". Así, podemos afirmar que, dentro de nuestro dataset, las operaciones fraudulentas son anomalias.\n",
    "\n",
    "El primer algoritmo que menciona es **DBSCAN**. Este algoritmo busca áreas con una alta densidad de registros asignandoles *clusters*. Mientras que, por otro lado, los puntos que se encuentran en regiones menos densas no se incluyen en ningún *cluster* y quedan etiquetados como anomalías.\n",
    "\n",
    "Para medir el rendimiento en este aparatado voy a usar el *homogeneity_score*, que indica el porcentaje de puntos/operaciones que están agrupadas con miembros de su misma clase. El valor óptimo de esta métrica es 1, ya que significaría que todos los *clusters* continen puntos de una misma y única clase."
   ]
  },
  {
   "cell_type": "code",
   "execution_count": 23,
   "metadata": {},
   "outputs": [],
   "source": [
    "from sklearn.cluster import DBSCAN, KMeans\n",
    "from sklearn.metrics import homogeneity_score"
   ]
  },
  {
   "cell_type": "markdown",
   "metadata": {},
   "source": [
    "Con el objetivo de reducir los tiempos de ejecución, voy a entrenar los modelos con una pequeña fracción de las operaciones incluidas en nuestro dataset. Además, en este apartado voy a utilizar el dataset con las variables escaladas/normalizadas y el dataset con las variables que guardan una mayor correlación con la clase."
   ]
  },
  {
   "cell_type": "code",
   "execution_count": 24,
   "metadata": {},
   "outputs": [
    {
     "data": {
      "text/plain": [
       "0    28426\n",
       "1       55\n",
       "Name: Class, dtype: int64"
      ]
     },
     "execution_count": 24,
     "metadata": {},
     "output_type": "execute_result"
    }
   ],
   "source": [
    "df_lite = df_copy.sample(frac=0.1, random_state=0)\n",
    "df_lite['Class'].value_counts()"
   ]
  },
  {
   "cell_type": "code",
   "execution_count": 25,
   "metadata": {},
   "outputs": [
    {
     "data": {
      "text/plain": [
       "0    28426\n",
       "1       55\n",
       "Name: Class, dtype: int64"
      ]
     },
     "execution_count": 25,
     "metadata": {},
     "output_type": "execute_result"
    }
   ],
   "source": [
    "df_lite_corr = corr_df.sample(frac=0.1, random_state=0)\n",
    "df_lite_corr['Class'].value_counts()"
   ]
  },
  {
   "cell_type": "code",
   "execution_count": 26,
   "metadata": {},
   "outputs": [],
   "source": [
    "target_lite = df_lite.pop('Class')\n",
    "target_lite_corr = df_lite_corr.pop('Class')"
   ]
  },
  {
   "cell_type": "code",
   "execution_count": 27,
   "metadata": {},
   "outputs": [
    {
     "name": "stdout",
     "output_type": "stream",
     "text": [
      "Clusters encontrados: [-1  0]\n"
     ]
    },
    {
     "data": {
      "text/plain": [
       "0.39275000962712553"
      ]
     },
     "execution_count": 27,
     "metadata": {},
     "output_type": "execute_result"
    }
   ],
   "source": [
    "# eps: The maximum distance between two samples for one to be considered as in the neighborhood of the other.\n",
    "# min_samples: The number of samples (or total weight) in a neighborhood for a point to be considered as a core point.\n",
    "\n",
    "estimator = DBSCAN(eps=5, min_samples=7, n_jobs=-1).fit(df_lite)\n",
    "print(f\"Clusters encontrados: {np.unique(estimator.labels_)}\")\n",
    "homogeneity_score(target_lite.values, estimator.labels_)"
   ]
  },
  {
   "cell_type": "markdown",
   "metadata": {},
   "source": [
    "Después de probar distintas combinaciones para los parámetros 'eps' y 'min_samples', (eps=5, min_samples=7) ofrece unos resultados bastante \"realistas\" en comparación con otras como (eps=5, min_samples=1) que, aunque su \"valor de homogeneidad\" sea casi 0.84, genera 560 *clusters* distintos y no parece detectar anomalías (no incluye el cluster -1). Hay que tener en cuenta que cuantos más *clusters* se generan mayor será el \"valor de homogeneidad\", lo cual puede resultar engañoso.\n",
    "\n",
    "A continuación voy a probar el mismo algoritmo con el segundo dataset, el de las variables más correlacionadas con la clase."
   ]
  },
  {
   "cell_type": "code",
   "execution_count": 28,
   "metadata": {},
   "outputs": [
    {
     "name": "stdout",
     "output_type": "stream",
     "text": [
      "Clusters encontrados: [-1  0  1]\n"
     ]
    },
    {
     "data": {
      "text/plain": [
       "0.6754698226044322"
      ]
     },
     "execution_count": 28,
     "metadata": {},
     "output_type": "execute_result"
    }
   ],
   "source": [
    "estimator_corr = DBSCAN(eps=5, min_samples=5, n_jobs=-1).fit(df_lite_corr)\n",
    "print(f\"Clusters encontrados: {np.unique(estimator_corr.labels_)}\")\n",
    "homogeneity_score(target_lite_corr.values, estimator_corr.labels_)"
   ]
  },
  {
   "cell_type": "markdown",
   "metadata": {},
   "source": [
    "Vemos como en este caso sí hemos conseguido mejorar el rendimiento del algoritmo DBSCAN al pasarle un dataset más reducido, consiguiendo casi un 0.3 más en el \"valor de homogeneidad\". Lo cual indicaría que este modelo es más fiable a la hora de detectar operaciones fraudulentas (anomalías)."
   ]
  },
  {
   "cell_type": "markdown",
   "metadata": {},
   "source": [
    "Para finalizar, el primer algoritmo de clusterización en el que pensé fue **K-Means**. Sin embargo, en el artículo de arriba se dice que este algoritmo no encaja bien en este tipo de problemas. La principal razón es que K-Means funciona mejor cuando se espera que los *clusters* tengan \"formas\" regulares. Otra razón es que todos los puntos quedan incluidos en *clusters* y así, las anomalías que haya formarán parte de algunos de ellos, afectando a sus centroides y, especialmente, a su radio. Esto puede provocar que sea más dificil detectar anomalías en los casos de prueba/evaluación."
   ]
  },
  {
   "cell_type": "code",
   "execution_count": 29,
   "metadata": {},
   "outputs": [
    {
     "data": {
      "text/plain": [
       "0.0014980494749532586"
      ]
     },
     "execution_count": 29,
     "metadata": {},
     "output_type": "execute_result"
    }
   ],
   "source": [
    "estimator = KMeans(n_clusters=2, max_iter=50000, random_state=1).fit(df_lite)\n",
    "homogeneity_score(target_lite.values, estimator.labels_)"
   ]
  },
  {
   "cell_type": "code",
   "execution_count": 30,
   "metadata": {},
   "outputs": [
    {
     "data": {
      "text/plain": [
       "0.09164955780193869"
      ]
     },
     "execution_count": 30,
     "metadata": {},
     "output_type": "execute_result"
    }
   ],
   "source": [
    "estimator_corr = KMeans(n_clusters=2, max_iter=50000, random_state=1).fit(df_lite_corr)\n",
    "homogeneity_score(target_lite_corr.values, estimator_corr.labels_)"
   ]
  },
  {
   "cell_type": "markdown",
   "metadata": {},
   "source": [
    "Como ya advertía el artículo, el algoritmo K-Means ofrece bastante peor rendimiento que el algoritmo DBSCAN para este tipo de problemas."
   ]
  }
 ],
 "metadata": {
  "kernelspec": {
   "display_name": "Python 3",
   "language": "python",
   "name": "python3"
  },
  "language_info": {
   "codemirror_mode": {
    "name": "ipython",
    "version": 3
   },
   "file_extension": ".py",
   "mimetype": "text/x-python",
   "name": "python",
   "nbconvert_exporter": "python",
   "pygments_lexer": "ipython3",
   "version": "3.7.4"
  }
 },
 "nbformat": 4,
 "nbformat_minor": 1
}
